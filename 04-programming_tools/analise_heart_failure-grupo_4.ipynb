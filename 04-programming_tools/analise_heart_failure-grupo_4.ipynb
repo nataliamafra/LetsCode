{
 "cells": [
  {
   "cell_type": "markdown",
   "source": "# Análise Exploratória de Doenças Cardiovasculares\n\nby grupo 04\n\n## 1. Introdução\nAs doenças cardiovasculares são a principal causa de morte no mundo: mais pessoas morrem anualmente por essas enfermidades do que por qualquer outra causa. Estima-se que 17,9 milhões de pessoas morreram por doenças cardiovasculares em 2016, representando 31% de todas as mortes em nível global. Destes óbitos, estima-se que 85% ocorrem devido a ataques cardíacos e acidentes vasculares cerebrais (AVCs). Mais de três quartos das mortes por doenças cardiovasculares ocorrem em países de baixa e média renda. Das 17 milhões de mortes prematuras (pessoas com menos de 70 anos) por doenças crônicas não transmissíveis, 82% acontecem em países de baixa e média renda e 37% são causadas por doenças cardiovasculares. Fonte: https://www.paho.org/pt/topicos/doencas-cardiovasculares\n\n",
   "metadata": {
    "cell_id": "ebb23ae0-233f-4f25-b9b9-b093d89c7d30",
    "deepnote_cell_type": "markdown"
   }
  },
  {
   "cell_type": "markdown",
   "source": "![10830.jpeg](attachment:img/10830.jpeg)",
   "metadata": {
    "cell_id": "a14ef9dd-53a5-4b4f-8fa1-aaee97c8fe28",
    "tags": [],
    "deepnote_cell_type": "markdown"
   }
  },
  {
   "cell_type": "markdown",
   "source": "## 2. Obtenção dos Dados",
   "metadata": {
    "cell_id": "599ad960-c432-48bf-bb76-c6ae233b7bc3",
    "tags": [],
    "deepnote_cell_type": "markdown"
   }
  },
  {
   "cell_type": "markdown",
   "source": "Este projeto desenvolve uma análise exploratória dos dados fornecidos pelo *UCI Heart Disease dataset*, disponível no link abaixo:\nhttps://www.kaggle.com/andrewmvd/heart-failure-clinical-data?select=heart_failure_clinical_records_dataset.csv",
   "metadata": {
    "cell_id": "614dc0fe-63d2-4570-b161-a1f7aa009c27",
    "tags": [],
    "deepnote_cell_type": "markdown"
   }
  },
  {
   "cell_type": "markdown",
   "source": "### 2.1 Importação das Bibliotecas",
   "metadata": {
    "cell_id": "40bdcd0c-5692-439c-b232-78029b8170aa",
    "tags": [],
    "deepnote_cell_type": "markdown"
   }
  },
  {
   "cell_type": "code",
   "metadata": {
    "cell_id": "726e54c8-45d1-4f87-95fa-23abd488e8ed",
    "tags": [],
    "deepnote_to_be_reexecuted": false,
    "source_hash": "90c8767c",
    "execution_start": 1643547497937,
    "execution_millis": 1811,
    "deepnote_cell_type": "code"
   },
   "source": "# Bibliotecas a serem utilizadas\nimport pandas as pd\nimport numpy as np\nimport matplotlib.pyplot as plt\nimport seaborn as sns\nimport warnings\n\n# Padronização da exibição dos dados com o Pandas\npd.options.display.float_format = '{:.2f}'.format",
   "execution_count": 1,
   "outputs": []
  },
  {
   "cell_type": "markdown",
   "source": "### 2.2 Importação do Dataset",
   "metadata": {
    "cell_id": "466f918e-bb5c-4fb8-96fc-52ee5dbad380",
    "tags": [],
    "deepnote_cell_type": "markdown"
   }
  },
  {
   "cell_type": "code",
   "metadata": {
    "cell_id": "f80f0832-f7a0-447d-bfeb-7fc287a37b8a",
    "tags": [],
    "deepnote_to_be_reexecuted": false,
    "source_hash": "c252662f",
    "execution_start": 1643547499753,
    "execution_millis": 7,
    "deepnote_cell_type": "code"
   },
   "source": "# Base de dados disponível na pasta \"data\"\ndf = pd.read_csv('data/heart_failure_clinical_records_dataset.csv')",
   "execution_count": 2,
   "outputs": []
  },
  {
   "cell_type": "markdown",
   "source": "## **3. Visão geral do conjunto de dados**",
   "metadata": {
    "cell_id": "00002-022f45f9-e11b-4751-80cb-1b1925c85d36",
    "deepnote_cell_type": "markdown"
   }
  },
  {
   "cell_type": "code",
   "metadata": {
    "cell_id": "d169e03f-0a43-4f1c-a14c-b0f07dabed02",
    "tags": [],
    "deepnote_to_be_reexecuted": false,
    "source_hash": "c5e88435",
    "execution_start": 1643547499790,
    "execution_millis": 43,
    "deepnote_cell_type": "code"
   },
   "source": "# Visão inicial do DataFrame a partir das 5 primeiras linhas\n\ndf.head()",
   "execution_count": 3,
   "outputs": [
    {
     "output_type": "execute_result",
     "execution_count": 3,
     "data": {
      "application/vnd.deepnote.dataframe.v3+json": {
       "column_count": 13,
       "row_count": 5,
       "columns": [
        {
         "name": "age",
         "dtype": "float64",
         "stats": {
          "unique_count": 4,
          "nan_count": 0,
          "min": "50.0",
          "max": "75.0",
          "histogram": [
           {
            "bin_start": 50,
            "bin_end": 52.5,
            "count": 1
           },
           {
            "bin_start": 52.5,
            "bin_end": 55,
            "count": 0
           },
           {
            "bin_start": 55,
            "bin_end": 57.5,
            "count": 1
           },
           {
            "bin_start": 57.5,
            "bin_end": 60,
            "count": 0
           },
           {
            "bin_start": 60,
            "bin_end": 62.5,
            "count": 0
           },
           {
            "bin_start": 62.5,
            "bin_end": 65,
            "count": 0
           },
           {
            "bin_start": 65,
            "bin_end": 67.5,
            "count": 2
           },
           {
            "bin_start": 67.5,
            "bin_end": 70,
            "count": 0
           },
           {
            "bin_start": 70,
            "bin_end": 72.5,
            "count": 0
           },
           {
            "bin_start": 72.5,
            "bin_end": 75,
            "count": 1
           }
          ]
         }
        },
        {
         "name": "anaemia",
         "dtype": "int64",
         "stats": {
          "unique_count": 2,
          "nan_count": 0,
          "min": "0",
          "max": "1",
          "histogram": [
           {
            "bin_start": 0,
            "bin_end": 0.1,
            "count": 3
           },
           {
            "bin_start": 0.1,
            "bin_end": 0.2,
            "count": 0
           },
           {
            "bin_start": 0.2,
            "bin_end": 0.30000000000000004,
            "count": 0
           },
           {
            "bin_start": 0.30000000000000004,
            "bin_end": 0.4,
            "count": 0
           },
           {
            "bin_start": 0.4,
            "bin_end": 0.5,
            "count": 0
           },
           {
            "bin_start": 0.5,
            "bin_end": 0.6000000000000001,
            "count": 0
           },
           {
            "bin_start": 0.6000000000000001,
            "bin_end": 0.7000000000000001,
            "count": 0
           },
           {
            "bin_start": 0.7000000000000001,
            "bin_end": 0.8,
            "count": 0
           },
           {
            "bin_start": 0.8,
            "bin_end": 0.9,
            "count": 0
           },
           {
            "bin_start": 0.9,
            "bin_end": 1,
            "count": 2
           }
          ]
         }
        },
        {
         "name": "creatinine_phosphokinase",
         "dtype": "int64",
         "stats": {
          "unique_count": 5,
          "nan_count": 0,
          "min": "111",
          "max": "7861",
          "histogram": [
           {
            "bin_start": 111,
            "bin_end": 886,
            "count": 4
           },
           {
            "bin_start": 886,
            "bin_end": 1661,
            "count": 0
           },
           {
            "bin_start": 1661,
            "bin_end": 2436,
            "count": 0
           },
           {
            "bin_start": 2436,
            "bin_end": 3211,
            "count": 0
           },
           {
            "bin_start": 3211,
            "bin_end": 3986,
            "count": 0
           },
           {
            "bin_start": 3986,
            "bin_end": 4761,
            "count": 0
           },
           {
            "bin_start": 4761,
            "bin_end": 5536,
            "count": 0
           },
           {
            "bin_start": 5536,
            "bin_end": 6311,
            "count": 0
           },
           {
            "bin_start": 6311,
            "bin_end": 7086,
            "count": 0
           },
           {
            "bin_start": 7086,
            "bin_end": 7861,
            "count": 1
           }
          ]
         }
        },
        {
         "name": "diabetes",
         "dtype": "int64",
         "stats": {
          "unique_count": 2,
          "nan_count": 0,
          "min": "0",
          "max": "1",
          "histogram": [
           {
            "bin_start": 0,
            "bin_end": 0.1,
            "count": 4
           },
           {
            "bin_start": 0.1,
            "bin_end": 0.2,
            "count": 0
           },
           {
            "bin_start": 0.2,
            "bin_end": 0.30000000000000004,
            "count": 0
           },
           {
            "bin_start": 0.30000000000000004,
            "bin_end": 0.4,
            "count": 0
           },
           {
            "bin_start": 0.4,
            "bin_end": 0.5,
            "count": 0
           },
           {
            "bin_start": 0.5,
            "bin_end": 0.6000000000000001,
            "count": 0
           },
           {
            "bin_start": 0.6000000000000001,
            "bin_end": 0.7000000000000001,
            "count": 0
           },
           {
            "bin_start": 0.7000000000000001,
            "bin_end": 0.8,
            "count": 0
           },
           {
            "bin_start": 0.8,
            "bin_end": 0.9,
            "count": 0
           },
           {
            "bin_start": 0.9,
            "bin_end": 1,
            "count": 1
           }
          ]
         }
        },
        {
         "name": "ejection_fraction",
         "dtype": "int64",
         "stats": {
          "unique_count": 2,
          "nan_count": 0,
          "min": "20",
          "max": "38",
          "histogram": [
           {
            "bin_start": 20,
            "bin_end": 21.8,
            "count": 4
           },
           {
            "bin_start": 21.8,
            "bin_end": 23.6,
            "count": 0
           },
           {
            "bin_start": 23.6,
            "bin_end": 25.4,
            "count": 0
           },
           {
            "bin_start": 25.4,
            "bin_end": 27.2,
            "count": 0
           },
           {
            "bin_start": 27.2,
            "bin_end": 29,
            "count": 0
           },
           {
            "bin_start": 29,
            "bin_end": 30.8,
            "count": 0
           },
           {
            "bin_start": 30.8,
            "bin_end": 32.6,
            "count": 0
           },
           {
            "bin_start": 32.6,
            "bin_end": 34.4,
            "count": 0
           },
           {
            "bin_start": 34.4,
            "bin_end": 36.2,
            "count": 0
           },
           {
            "bin_start": 36.2,
            "bin_end": 38,
            "count": 1
           }
          ]
         }
        },
        {
         "name": "high_blood_pressure",
         "dtype": "int64",
         "stats": {
          "unique_count": 2,
          "nan_count": 0,
          "min": "0",
          "max": "1",
          "histogram": [
           {
            "bin_start": 0,
            "bin_end": 0.1,
            "count": 4
           },
           {
            "bin_start": 0.1,
            "bin_end": 0.2,
            "count": 0
           },
           {
            "bin_start": 0.2,
            "bin_end": 0.30000000000000004,
            "count": 0
           },
           {
            "bin_start": 0.30000000000000004,
            "bin_end": 0.4,
            "count": 0
           },
           {
            "bin_start": 0.4,
            "bin_end": 0.5,
            "count": 0
           },
           {
            "bin_start": 0.5,
            "bin_end": 0.6000000000000001,
            "count": 0
           },
           {
            "bin_start": 0.6000000000000001,
            "bin_end": 0.7000000000000001,
            "count": 0
           },
           {
            "bin_start": 0.7000000000000001,
            "bin_end": 0.8,
            "count": 0
           },
           {
            "bin_start": 0.8,
            "bin_end": 0.9,
            "count": 0
           },
           {
            "bin_start": 0.9,
            "bin_end": 1,
            "count": 1
           }
          ]
         }
        },
        {
         "name": "platelets",
         "dtype": "float64",
         "stats": {
          "unique_count": 5,
          "nan_count": 0,
          "min": "162000.0",
          "max": "327000.0",
          "histogram": [
           {
            "bin_start": 162000,
            "bin_end": 178500,
            "count": 1
           },
           {
            "bin_start": 178500,
            "bin_end": 195000,
            "count": 0
           },
           {
            "bin_start": 195000,
            "bin_end": 211500,
            "count": 1
           },
           {
            "bin_start": 211500,
            "bin_end": 228000,
            "count": 0
           },
           {
            "bin_start": 228000,
            "bin_end": 244500,
            "count": 0
           },
           {
            "bin_start": 244500,
            "bin_end": 261000,
            "count": 0
           },
           {
            "bin_start": 261000,
            "bin_end": 277500,
            "count": 2
           },
           {
            "bin_start": 277500,
            "bin_end": 294000,
            "count": 0
           },
           {
            "bin_start": 294000,
            "bin_end": 310500,
            "count": 0
           },
           {
            "bin_start": 310500,
            "bin_end": 327000,
            "count": 1
           }
          ]
         }
        },
        {
         "name": "serum_creatinine",
         "dtype": "float64",
         "stats": {
          "unique_count": 4,
          "nan_count": 0,
          "min": "1.1",
          "max": "2.7",
          "histogram": [
           {
            "bin_start": 1.1,
            "bin_end": 1.26,
            "count": 1
           },
           {
            "bin_start": 1.26,
            "bin_end": 1.4200000000000002,
            "count": 1
           },
           {
            "bin_start": 1.4200000000000002,
            "bin_end": 1.58,
            "count": 0
           },
           {
            "bin_start": 1.58,
            "bin_end": 1.7400000000000002,
            "count": 0
           },
           {
            "bin_start": 1.7400000000000002,
            "bin_end": 1.9000000000000001,
            "count": 2
           },
           {
            "bin_start": 1.9000000000000001,
            "bin_end": 2.06,
            "count": 0
           },
           {
            "bin_start": 2.06,
            "bin_end": 2.22,
            "count": 0
           },
           {
            "bin_start": 2.22,
            "bin_end": 2.38,
            "count": 0
           },
           {
            "bin_start": 2.38,
            "bin_end": 2.54,
            "count": 0
           },
           {
            "bin_start": 2.54,
            "bin_end": 2.7,
            "count": 1
           }
          ]
         }
        },
        {
         "name": "serum_sodium",
         "dtype": "int64",
         "stats": {
          "unique_count": 5,
          "nan_count": 0,
          "min": "116",
          "max": "137",
          "histogram": [
           {
            "bin_start": 116,
            "bin_end": 118.1,
            "count": 1
           },
           {
            "bin_start": 118.1,
            "bin_end": 120.2,
            "count": 0
           },
           {
            "bin_start": 120.2,
            "bin_end": 122.3,
            "count": 0
           },
           {
            "bin_start": 122.3,
            "bin_end": 124.4,
            "count": 0
           },
           {
            "bin_start": 124.4,
            "bin_end": 126.5,
            "count": 0
           },
           {
            "bin_start": 126.5,
            "bin_end": 128.6,
            "count": 0
           },
           {
            "bin_start": 128.6,
            "bin_end": 130.7,
            "count": 2
           },
           {
            "bin_start": 130.7,
            "bin_end": 132.8,
            "count": 0
           },
           {
            "bin_start": 132.8,
            "bin_end": 134.9,
            "count": 0
           },
           {
            "bin_start": 134.9,
            "bin_end": 137,
            "count": 2
           }
          ]
         }
        },
        {
         "name": "sex",
         "dtype": "int64",
         "stats": {
          "unique_count": 2,
          "nan_count": 0,
          "min": "0",
          "max": "1",
          "histogram": [
           {
            "bin_start": 0,
            "bin_end": 0.1,
            "count": 1
           },
           {
            "bin_start": 0.1,
            "bin_end": 0.2,
            "count": 0
           },
           {
            "bin_start": 0.2,
            "bin_end": 0.30000000000000004,
            "count": 0
           },
           {
            "bin_start": 0.30000000000000004,
            "bin_end": 0.4,
            "count": 0
           },
           {
            "bin_start": 0.4,
            "bin_end": 0.5,
            "count": 0
           },
           {
            "bin_start": 0.5,
            "bin_end": 0.6000000000000001,
            "count": 0
           },
           {
            "bin_start": 0.6000000000000001,
            "bin_end": 0.7000000000000001,
            "count": 0
           },
           {
            "bin_start": 0.7000000000000001,
            "bin_end": 0.8,
            "count": 0
           },
           {
            "bin_start": 0.8,
            "bin_end": 0.9,
            "count": 0
           },
           {
            "bin_start": 0.9,
            "bin_end": 1,
            "count": 4
           }
          ]
         }
        },
        {
         "name": "smoking",
         "dtype": "int64",
         "stats": {
          "unique_count": 2,
          "nan_count": 0,
          "min": "0",
          "max": "1",
          "histogram": [
           {
            "bin_start": 0,
            "bin_end": 0.1,
            "count": 4
           },
           {
            "bin_start": 0.1,
            "bin_end": 0.2,
            "count": 0
           },
           {
            "bin_start": 0.2,
            "bin_end": 0.30000000000000004,
            "count": 0
           },
           {
            "bin_start": 0.30000000000000004,
            "bin_end": 0.4,
            "count": 0
           },
           {
            "bin_start": 0.4,
            "bin_end": 0.5,
            "count": 0
           },
           {
            "bin_start": 0.5,
            "bin_end": 0.6000000000000001,
            "count": 0
           },
           {
            "bin_start": 0.6000000000000001,
            "bin_end": 0.7000000000000001,
            "count": 0
           },
           {
            "bin_start": 0.7000000000000001,
            "bin_end": 0.8,
            "count": 0
           },
           {
            "bin_start": 0.8,
            "bin_end": 0.9,
            "count": 0
           },
           {
            "bin_start": 0.9,
            "bin_end": 1,
            "count": 1
           }
          ]
         }
        },
        {
         "name": "time",
         "dtype": "int64",
         "stats": {
          "unique_count": 4,
          "nan_count": 0,
          "min": "4",
          "max": "8",
          "histogram": [
           {
            "bin_start": 4,
            "bin_end": 4.4,
            "count": 1
           },
           {
            "bin_start": 4.4,
            "bin_end": 4.8,
            "count": 0
           },
           {
            "bin_start": 4.8,
            "bin_end": 5.2,
            "count": 0
           },
           {
            "bin_start": 5.2,
            "bin_end": 5.6,
            "count": 0
           },
           {
            "bin_start": 5.6,
            "bin_end": 6,
            "count": 0
           },
           {
            "bin_start": 6,
            "bin_end": 6.4,
            "count": 1
           },
           {
            "bin_start": 6.4,
            "bin_end": 6.800000000000001,
            "count": 0
           },
           {
            "bin_start": 6.800000000000001,
            "bin_end": 7.2,
            "count": 2
           },
           {
            "bin_start": 7.2,
            "bin_end": 7.6,
            "count": 0
           },
           {
            "bin_start": 7.6,
            "bin_end": 8,
            "count": 1
           }
          ]
         }
        },
        {
         "name": "DEATH_EVENT",
         "dtype": "int64",
         "stats": {
          "unique_count": 1,
          "nan_count": 0,
          "min": "1",
          "max": "1",
          "histogram": [
           {
            "bin_start": 0.5,
            "bin_end": 0.6,
            "count": 0
           },
           {
            "bin_start": 0.6,
            "bin_end": 0.7,
            "count": 0
           },
           {
            "bin_start": 0.7,
            "bin_end": 0.8,
            "count": 0
           },
           {
            "bin_start": 0.8,
            "bin_end": 0.9,
            "count": 0
           },
           {
            "bin_start": 0.9,
            "bin_end": 1,
            "count": 0
           },
           {
            "bin_start": 1,
            "bin_end": 1.1,
            "count": 5
           },
           {
            "bin_start": 1.1,
            "bin_end": 1.2000000000000002,
            "count": 0
           },
           {
            "bin_start": 1.2000000000000002,
            "bin_end": 1.3,
            "count": 0
           },
           {
            "bin_start": 1.3,
            "bin_end": 1.4,
            "count": 0
           },
           {
            "bin_start": 1.4,
            "bin_end": 1.5,
            "count": 0
           }
          ]
         }
        },
        {
         "name": "_deepnote_index_column",
         "dtype": "int64"
        }
       ],
       "rows": [
        {
         "age": 75,
         "anaemia": 0,
         "creatinine_phosphokinase": 582,
         "diabetes": 0,
         "ejection_fraction": 20,
         "high_blood_pressure": 1,
         "platelets": 265000,
         "serum_creatinine": 1.9,
         "serum_sodium": 130,
         "sex": 1,
         "smoking": 0,
         "time": 4,
         "DEATH_EVENT": 1,
         "_deepnote_index_column": 0
        },
        {
         "age": 55,
         "anaemia": 0,
         "creatinine_phosphokinase": 7861,
         "diabetes": 0,
         "ejection_fraction": 38,
         "high_blood_pressure": 0,
         "platelets": 263358.03,
         "serum_creatinine": 1.1,
         "serum_sodium": 136,
         "sex": 1,
         "smoking": 0,
         "time": 6,
         "DEATH_EVENT": 1,
         "_deepnote_index_column": 1
        },
        {
         "age": 65,
         "anaemia": 0,
         "creatinine_phosphokinase": 146,
         "diabetes": 0,
         "ejection_fraction": 20,
         "high_blood_pressure": 0,
         "platelets": 162000,
         "serum_creatinine": 1.3,
         "serum_sodium": 129,
         "sex": 1,
         "smoking": 1,
         "time": 7,
         "DEATH_EVENT": 1,
         "_deepnote_index_column": 2
        },
        {
         "age": 50,
         "anaemia": 1,
         "creatinine_phosphokinase": 111,
         "diabetes": 0,
         "ejection_fraction": 20,
         "high_blood_pressure": 0,
         "platelets": 210000,
         "serum_creatinine": 1.9,
         "serum_sodium": 137,
         "sex": 1,
         "smoking": 0,
         "time": 7,
         "DEATH_EVENT": 1,
         "_deepnote_index_column": 3
        },
        {
         "age": 65,
         "anaemia": 1,
         "creatinine_phosphokinase": 160,
         "diabetes": 1,
         "ejection_fraction": 20,
         "high_blood_pressure": 0,
         "platelets": 327000,
         "serum_creatinine": 2.7,
         "serum_sodium": 116,
         "sex": 0,
         "smoking": 0,
         "time": 8,
         "DEATH_EVENT": 1,
         "_deepnote_index_column": 4
        }
       ]
      },
      "text/plain": "    age  anaemia  creatinine_phosphokinase  diabetes  ejection_fraction  \\\n0 75.00        0                       582         0                 20   \n1 55.00        0                      7861         0                 38   \n2 65.00        0                       146         0                 20   \n3 50.00        1                       111         0                 20   \n4 65.00        1                       160         1                 20   \n\n   high_blood_pressure  platelets  serum_creatinine  serum_sodium  sex  \\\n0                    1  265000.00              1.90           130    1   \n1                    0  263358.03              1.10           136    1   \n2                    0  162000.00              1.30           129    1   \n3                    0  210000.00              1.90           137    1   \n4                    0  327000.00              2.70           116    0   \n\n   smoking  time  DEATH_EVENT  \n0        0     4            1  \n1        0     6            1  \n2        1     7            1  \n3        0     7            1  \n4        0     8            1  ",
      "text/html": "<div>\n<style scoped>\n    .dataframe tbody tr th:only-of-type {\n        vertical-align: middle;\n    }\n\n    .dataframe tbody tr th {\n        vertical-align: top;\n    }\n\n    .dataframe thead th {\n        text-align: right;\n    }\n</style>\n<table border=\"1\" class=\"dataframe\">\n  <thead>\n    <tr style=\"text-align: right;\">\n      <th></th>\n      <th>age</th>\n      <th>anaemia</th>\n      <th>creatinine_phosphokinase</th>\n      <th>diabetes</th>\n      <th>ejection_fraction</th>\n      <th>high_blood_pressure</th>\n      <th>platelets</th>\n      <th>serum_creatinine</th>\n      <th>serum_sodium</th>\n      <th>sex</th>\n      <th>smoking</th>\n      <th>time</th>\n      <th>DEATH_EVENT</th>\n    </tr>\n  </thead>\n  <tbody>\n    <tr>\n      <th>0</th>\n      <td>75.00</td>\n      <td>0</td>\n      <td>582</td>\n      <td>0</td>\n      <td>20</td>\n      <td>1</td>\n      <td>265000.00</td>\n      <td>1.90</td>\n      <td>130</td>\n      <td>1</td>\n      <td>0</td>\n      <td>4</td>\n      <td>1</td>\n    </tr>\n    <tr>\n      <th>1</th>\n      <td>55.00</td>\n      <td>0</td>\n      <td>7861</td>\n      <td>0</td>\n      <td>38</td>\n      <td>0</td>\n      <td>263358.03</td>\n      <td>1.10</td>\n      <td>136</td>\n      <td>1</td>\n      <td>0</td>\n      <td>6</td>\n      <td>1</td>\n    </tr>\n    <tr>\n      <th>2</th>\n      <td>65.00</td>\n      <td>0</td>\n      <td>146</td>\n      <td>0</td>\n      <td>20</td>\n      <td>0</td>\n      <td>162000.00</td>\n      <td>1.30</td>\n      <td>129</td>\n      <td>1</td>\n      <td>1</td>\n      <td>7</td>\n      <td>1</td>\n    </tr>\n    <tr>\n      <th>3</th>\n      <td>50.00</td>\n      <td>1</td>\n      <td>111</td>\n      <td>0</td>\n      <td>20</td>\n      <td>0</td>\n      <td>210000.00</td>\n      <td>1.90</td>\n      <td>137</td>\n      <td>1</td>\n      <td>0</td>\n      <td>7</td>\n      <td>1</td>\n    </tr>\n    <tr>\n      <th>4</th>\n      <td>65.00</td>\n      <td>1</td>\n      <td>160</td>\n      <td>1</td>\n      <td>20</td>\n      <td>0</td>\n      <td>327000.00</td>\n      <td>2.70</td>\n      <td>116</td>\n      <td>0</td>\n      <td>0</td>\n      <td>8</td>\n      <td>1</td>\n    </tr>\n  </tbody>\n</table>\n</div>"
     },
     "metadata": {}
    }
   ]
  },
  {
   "cell_type": "markdown",
   "source": "### 3.1 Dimensões do DataFrame",
   "metadata": {
    "cell_id": "8d196b40-f51a-426f-81b8-05f835825f59",
    "tags": [],
    "deepnote_cell_type": "markdown"
   }
  },
  {
   "cell_type": "code",
   "metadata": {
    "cell_id": "00003-b5a3f785-c7e5-43d9-9ed8-8023b49bd82e",
    "deepnote_to_be_reexecuted": false,
    "source_hash": "539662d",
    "execution_start": 1643547499845,
    "execution_millis": 1015974,
    "deepnote_cell_type": "code"
   },
   "source": "print('Entradas: ', df.shape[0])\nprint('Variáveis: ', df.shape[1])",
   "execution_count": 4,
   "outputs": [
    {
     "name": "stdout",
     "text": "Entradas:  299\nVariáveis:  13\n",
     "output_type": "stream"
    }
   ]
  },
  {
   "cell_type": "markdown",
   "source": "### 3.2 Análise rápida do tipo de dados",
   "metadata": {
    "cell_id": "c675835c-4692-4a02-b2f5-329126813ffd",
    "tags": [],
    "deepnote_cell_type": "markdown"
   }
  },
  {
   "cell_type": "code",
   "metadata": {
    "cell_id": "00005-b9575030-91ec-4f6a-b641-b872b7790e08",
    "deepnote_to_be_reexecuted": false,
    "source_hash": "de1e323c",
    "execution_start": 1643547499869,
    "execution_millis": 1015971,
    "deepnote_cell_type": "code"
   },
   "source": "df.info()",
   "execution_count": 5,
   "outputs": [
    {
     "name": "stdout",
     "text": "<class 'pandas.core.frame.DataFrame'>\nRangeIndex: 299 entries, 0 to 298\nData columns (total 13 columns):\n #   Column                    Non-Null Count  Dtype  \n---  ------                    --------------  -----  \n 0   age                       299 non-null    float64\n 1   anaemia                   299 non-null    int64  \n 2   creatinine_phosphokinase  299 non-null    int64  \n 3   diabetes                  299 non-null    int64  \n 4   ejection_fraction         299 non-null    int64  \n 5   high_blood_pressure       299 non-null    int64  \n 6   platelets                 299 non-null    float64\n 7   serum_creatinine          299 non-null    float64\n 8   serum_sodium              299 non-null    int64  \n 9   sex                       299 non-null    int64  \n 10  smoking                   299 non-null    int64  \n 11  time                      299 non-null    int64  \n 12  DEATH_EVENT               299 non-null    int64  \ndtypes: float64(3), int64(10)\nmemory usage: 30.5 KB\n",
     "output_type": "stream"
    }
   ]
  },
  {
   "cell_type": "markdown",
   "source": "A partir dos dados obtidos acima com o método _.info_, observamos que:\n\n    1. Os nomes das colunas estão todos em inglês\n    2. Todas as células das 299 colunas estão preenchidas\n    3. Todas as colunas são do tipo inteiro ou float",
   "metadata": {
    "cell_id": "d6a1e7dd-8ed2-42aa-a298-bdee90f00d05",
    "tags": [],
    "deepnote_cell_type": "markdown"
   }
  },
  {
   "cell_type": "markdown",
   "source": "#### 3.2.1. Alterando os nomes das colunas",
   "metadata": {
    "cell_id": "00006-622b2039-88b6-4804-bf09-79e3e0ca81a7",
    "deepnote_cell_type": "markdown"
   }
  },
  {
   "cell_type": "code",
   "metadata": {
    "cell_id": "7538430c-7266-4658-976a-63d120e01801",
    "tags": [],
    "deepnote_to_be_reexecuted": false,
    "source_hash": "c3429157",
    "execution_start": 1643547499884,
    "execution_millis": 1015974,
    "deepnote_cell_type": "code"
   },
   "source": "# Para facilitar a manipulação, mudaremos os nomes das colunas para o português\n# Colocaremos também as iniciais em maiúsculas\ndf.columns =['Idade', 'Anemia', 'Creatinafosfoquinase', 'Diabetes', \n            'Fracao_ejecao', 'Pressao_alta', 'Plaquetas', 'Creatinina_soro', \n            'Sodio_soro', 'Sexo', 'Fumante', 'Tempo', 'Morte']\n           ",
   "execution_count": 6,
   "outputs": []
  },
  {
   "cell_type": "code",
   "metadata": {
    "cell_id": "00007-df7140ad-5945-4e9b-8a1c-6784bea6b518",
    "deepnote_to_be_reexecuted": false,
    "source_hash": "89182da5",
    "execution_start": 1643547499896,
    "execution_millis": 1015983,
    "deepnote_output_heights": [
     79
    ],
    "deepnote_cell_type": "code"
   },
   "source": "# Testando a alteração dos nomes das colunas:\ndf.columns",
   "execution_count": 7,
   "outputs": [
    {
     "output_type": "execute_result",
     "execution_count": 7,
     "data": {
      "text/plain": "Index(['Idade', 'Anemia', 'Creatinafosfoquinase', 'Diabetes', 'Fracao_ejecao',\n       'Pressao_alta', 'Plaquetas', 'Creatinina_soro', 'Sodio_soro', 'Sexo',\n       'Fumante', 'Tempo', 'Morte'],\n      dtype='object')"
     },
     "metadata": {}
    }
   ]
  },
  {
   "cell_type": "markdown",
   "source": "#### 3.2.2. Confirmando a ausência de valores nulos",
   "metadata": {
    "cell_id": "00008-faee887d-e57d-4e18-8f5d-2ae521408cc4",
    "deepnote_cell_type": "markdown"
   }
  },
  {
   "cell_type": "markdown",
   "source": "Considerando que a base de dados contempla dados de 299 pacientes e que todas as colunas tem 299 células preenchidas, percebemos que **não há nenhum valor faltante, ou seja, nulo**.\n\nEssa conclusão pode ser confirmada pela aplicação do método .isnull() na base original, seguido do método .sum():",
   "metadata": {
    "cell_id": "00013-11d54e53-574e-4686-9edf-54a8cc364a0d",
    "deepnote_cell_type": "markdown"
   }
  },
  {
   "cell_type": "code",
   "metadata": {
    "cell_id": "00014-9f1c75e3-2985-45c2-86ed-07497836f7fe",
    "deepnote_to_be_reexecuted": false,
    "source_hash": "f3dd26da",
    "execution_start": 1643547499898,
    "execution_millis": 1015974,
    "deepnote_output_heights": [
     271
    ],
    "deepnote_cell_type": "code"
   },
   "source": "df.isnull().sum()",
   "execution_count": 8,
   "outputs": [
    {
     "output_type": "execute_result",
     "execution_count": 8,
     "data": {
      "text/plain": "Idade                   0\nAnemia                  0\nCreatinafosfoquinase    0\nDiabetes                0\nFracao_ejecao           0\nPressao_alta            0\nPlaquetas               0\nCreatinina_soro         0\nSodio_soro              0\nSexo                    0\nFumante                 0\nTempo                   0\nMorte                   0\ndtype: int64"
     },
     "metadata": {}
    }
   ]
  },
  {
   "cell_type": "markdown",
   "source": "**Confirmada, portanto, a conclusão de que a base de dados não possui valores faltantes ou nulos.**",
   "metadata": {
    "cell_id": "00017-ab966360-1519-440b-b62c-c90d876dc1f8",
    "deepnote_cell_type": "markdown"
   }
  },
  {
   "cell_type": "markdown",
   "source": "#### 3.2.3. Tipos de variáveis",
   "metadata": {
    "cell_id": "00018-6ad4dcf3-d814-4d94-a07d-9727ce2cdf45",
    "deepnote_cell_type": "markdown"
   }
  },
  {
   "cell_type": "markdown",
   "source": "Como vimos, são 13 as variáveis encontradas neste DataSet:\n\n*  Idade (anos): idade do paciente.\n*  Anemia (Sim/Não): paciente com anemia = 1, paciente sem anemia = 0.\n*  Creatinafosfoquinase (mcg/L): proteína encontrada no sangue/músculo cardíaco sendo utilizada como marcador do infarto. VR: 32 a 294 U/L.\n*  Diabetes (Sim/Não): pacientes com diabetes = 1, sem diabetes = 0.\n*  Fracao_ejecao (%): capacidade de expulsar sangue do coração. VR: (%) 55/70(normal) 40/54 levemente abaixo, 35/39 moderadamente abaixo, menos de 35, severamente abaixo do normal.\n*  Pressao_alta (Sim/Não): danifica as artérias e levam a doenças cardiovasculares. Pacientes com pressão alta = 1, sem pressão alta = 0.\n*  Plaquetas (kiloplatelets/mL): responsáveis pela coagulação sanguínea: 150k a 450k - normal, >450k: thrombocytosis (dores de cabeça, fraqueza, tonturas,etc <150k: thrombocytopenia (hemorragia)\n*  Creatinina_soro (mg/dL): substância presente no sangue e eliminada pelos rins, quando não bem eliminada pode provocar problemas cardiovasculares. VR: 0,5 a 1,2 mg/dL, alta:cansaço excessivo, falta de ar. baixo: indica doenças hepáticas. Veja que no nosso dataset os valores estão muito alto, o que pode afetar os rins e de tabela o coração.\n*  Sódio (mEq/L): nível de sódio no sangue (135 a 145) mEq/L - <135 (mais velhos, letargia, personalidade alterada, confusão), > 145: desordem muscular, coma e morte.\n*  Sexo (Sim/Não): homem = 1 e mulher = 0\n*  Fumante (Sim/Não): 1 e não fumante = 0\n*  Tempo (dias): tempo de acompanhamento médico.\n*  Morte(Sim/Não): morto = 1 e vivo = 0.",
   "metadata": {
    "cell_id": "83f3727b-a27e-4902-9d9b-9a2db5a9effa",
    "tags": [],
    "deepnote_cell_type": "markdown"
   }
  },
  {
   "cell_type": "markdown",
   "source": "Nota-se pela análise das colunas que não há nesta base tipos de dados categóricos, apenas numéricos (_int_ e _float_).\n\nPara garantir que não sejam feitas análises numéricas em colunas que contém dados booleanos, transformaremos as variáveis conceitualmentecategóricas de _int_ para _bool_:",
   "metadata": {
    "cell_id": "d4f0d82c-d178-4c88-b55f-57fd476fc092",
    "tags": [],
    "deepnote_cell_type": "markdown"
   }
  },
  {
   "cell_type": "code",
   "source": "# Antes:\ndisplay(df)",
   "metadata": {
    "cell_id": "29da5e26-1576-435a-a463-cc034710ea50",
    "tags": [],
    "deepnote_to_be_reexecuted": false,
    "source_hash": "6f16bcef",
    "execution_start": 1643547499944,
    "execution_millis": 16,
    "deepnote_cell_type": "code"
   },
   "outputs": [
    {
     "data": {
      "application/vnd.deepnote.dataframe.v3+json": {
       "column_count": 13,
       "row_count": 299,
       "columns": [
        {
         "name": "Idade",
         "dtype": "float64",
         "stats": {
          "unique_count": 47,
          "nan_count": 0,
          "min": "40.0",
          "max": "95.0",
          "histogram": [
           {
            "bin_start": 40,
            "bin_end": 45.5,
            "count": 37
           },
           {
            "bin_start": 45.5,
            "bin_end": 51,
            "count": 37
           },
           {
            "bin_start": 51,
            "bin_end": 56.5,
            "count": 39
           },
           {
            "bin_start": 56.5,
            "bin_end": 62,
            "count": 55
           },
           {
            "bin_start": 62,
            "bin_end": 67.5,
            "count": 46
           },
           {
            "bin_start": 67.5,
            "bin_end": 73,
            "count": 40
           },
           {
            "bin_start": 73,
            "bin_end": 78.5,
            "count": 19
           },
           {
            "bin_start": 78.5,
            "bin_end": 84,
            "count": 12
           },
           {
            "bin_start": 84,
            "bin_end": 89.5,
            "count": 8
           },
           {
            "bin_start": 89.5,
            "bin_end": 95,
            "count": 6
           }
          ]
         }
        },
        {
         "name": "Anemia",
         "dtype": "int64",
         "stats": {
          "unique_count": 2,
          "nan_count": 0,
          "min": "0",
          "max": "1",
          "histogram": [
           {
            "bin_start": 0,
            "bin_end": 0.1,
            "count": 170
           },
           {
            "bin_start": 0.1,
            "bin_end": 0.2,
            "count": 0
           },
           {
            "bin_start": 0.2,
            "bin_end": 0.30000000000000004,
            "count": 0
           },
           {
            "bin_start": 0.30000000000000004,
            "bin_end": 0.4,
            "count": 0
           },
           {
            "bin_start": 0.4,
            "bin_end": 0.5,
            "count": 0
           },
           {
            "bin_start": 0.5,
            "bin_end": 0.6000000000000001,
            "count": 0
           },
           {
            "bin_start": 0.6000000000000001,
            "bin_end": 0.7000000000000001,
            "count": 0
           },
           {
            "bin_start": 0.7000000000000001,
            "bin_end": 0.8,
            "count": 0
           },
           {
            "bin_start": 0.8,
            "bin_end": 0.9,
            "count": 0
           },
           {
            "bin_start": 0.9,
            "bin_end": 1,
            "count": 129
           }
          ]
         }
        },
        {
         "name": "Creatinafosfoquinase",
         "dtype": "int64",
         "stats": {
          "unique_count": 208,
          "nan_count": 0,
          "min": "23",
          "max": "7861",
          "histogram": [
           {
            "bin_start": 23,
            "bin_end": 806.8,
            "count": 252
           },
           {
            "bin_start": 806.8,
            "bin_end": 1590.6,
            "count": 21
           },
           {
            "bin_start": 1590.6,
            "bin_end": 2374.3999999999996,
            "count": 13
           },
           {
            "bin_start": 2374.3999999999996,
            "bin_end": 3158.2,
            "count": 6
           },
           {
            "bin_start": 3158.2,
            "bin_end": 3942,
            "count": 0
           },
           {
            "bin_start": 3942,
            "bin_end": 4725.799999999999,
            "count": 3
           },
           {
            "bin_start": 4725.799999999999,
            "bin_end": 5509.599999999999,
            "count": 1
           },
           {
            "bin_start": 5509.599999999999,
            "bin_end": 6293.4,
            "count": 1
           },
           {
            "bin_start": 6293.4,
            "bin_end": 7077.2,
            "count": 0
           },
           {
            "bin_start": 7077.2,
            "bin_end": 7861,
            "count": 2
           }
          ]
         }
        },
        {
         "name": "Diabetes",
         "dtype": "int64",
         "stats": {
          "unique_count": 2,
          "nan_count": 0,
          "min": "0",
          "max": "1",
          "histogram": [
           {
            "bin_start": 0,
            "bin_end": 0.1,
            "count": 174
           },
           {
            "bin_start": 0.1,
            "bin_end": 0.2,
            "count": 0
           },
           {
            "bin_start": 0.2,
            "bin_end": 0.30000000000000004,
            "count": 0
           },
           {
            "bin_start": 0.30000000000000004,
            "bin_end": 0.4,
            "count": 0
           },
           {
            "bin_start": 0.4,
            "bin_end": 0.5,
            "count": 0
           },
           {
            "bin_start": 0.5,
            "bin_end": 0.6000000000000001,
            "count": 0
           },
           {
            "bin_start": 0.6000000000000001,
            "bin_end": 0.7000000000000001,
            "count": 0
           },
           {
            "bin_start": 0.7000000000000001,
            "bin_end": 0.8,
            "count": 0
           },
           {
            "bin_start": 0.8,
            "bin_end": 0.9,
            "count": 0
           },
           {
            "bin_start": 0.9,
            "bin_end": 1,
            "count": 125
           }
          ]
         }
        },
        {
         "name": "Fracao_ejecao",
         "dtype": "int64",
         "stats": {
          "unique_count": 17,
          "nan_count": 0,
          "min": "14",
          "max": "80",
          "histogram": [
           {
            "bin_start": 14,
            "bin_end": 20.6,
            "count": 23
           },
           {
            "bin_start": 20.6,
            "bin_end": 27.2,
            "count": 36
           },
           {
            "bin_start": 27.2,
            "bin_end": 33.8,
            "count": 34
           },
           {
            "bin_start": 33.8,
            "bin_end": 40.4,
            "count": 126
           },
           {
            "bin_start": 40.4,
            "bin_end": 47,
            "count": 20
           },
           {
            "bin_start": 47,
            "bin_end": 53.599999999999994,
            "count": 21
           },
           {
            "bin_start": 53.599999999999994,
            "bin_end": 60.199999999999996,
            "count": 34
           },
           {
            "bin_start": 60.199999999999996,
            "bin_end": 66.8,
            "count": 3
           },
           {
            "bin_start": 66.8,
            "bin_end": 73.4,
            "count": 1
           },
           {
            "bin_start": 73.4,
            "bin_end": 80,
            "count": 1
           }
          ]
         }
        },
        {
         "name": "Pressao_alta",
         "dtype": "int64",
         "stats": {
          "unique_count": 2,
          "nan_count": 0,
          "min": "0",
          "max": "1",
          "histogram": [
           {
            "bin_start": 0,
            "bin_end": 0.1,
            "count": 194
           },
           {
            "bin_start": 0.1,
            "bin_end": 0.2,
            "count": 0
           },
           {
            "bin_start": 0.2,
            "bin_end": 0.30000000000000004,
            "count": 0
           },
           {
            "bin_start": 0.30000000000000004,
            "bin_end": 0.4,
            "count": 0
           },
           {
            "bin_start": 0.4,
            "bin_end": 0.5,
            "count": 0
           },
           {
            "bin_start": 0.5,
            "bin_end": 0.6000000000000001,
            "count": 0
           },
           {
            "bin_start": 0.6000000000000001,
            "bin_end": 0.7000000000000001,
            "count": 0
           },
           {
            "bin_start": 0.7000000000000001,
            "bin_end": 0.8,
            "count": 0
           },
           {
            "bin_start": 0.8,
            "bin_end": 0.9,
            "count": 0
           },
           {
            "bin_start": 0.9,
            "bin_end": 1,
            "count": 105
           }
          ]
         }
        },
        {
         "name": "Plaquetas",
         "dtype": "float64",
         "stats": {
          "unique_count": 176,
          "nan_count": 0,
          "min": "25100.0",
          "max": "850000.0",
          "histogram": [
           {
            "bin_start": 25100,
            "bin_end": 107590,
            "count": 9
           },
           {
            "bin_start": 107590,
            "bin_end": 190080,
            "count": 46
           },
           {
            "bin_start": 190080,
            "bin_end": 272570,
            "count": 136
           },
           {
            "bin_start": 272570,
            "bin_end": 355060,
            "count": 67
           },
           {
            "bin_start": 355060,
            "bin_end": 437550,
            "count": 27
           },
           {
            "bin_start": 437550,
            "bin_end": 520040,
            "count": 9
           },
           {
            "bin_start": 520040,
            "bin_end": 602530,
            "count": 2
           },
           {
            "bin_start": 602530,
            "bin_end": 685020,
            "count": 1
           },
           {
            "bin_start": 685020,
            "bin_end": 767510,
            "count": 1
           },
           {
            "bin_start": 767510,
            "bin_end": 850000,
            "count": 1
           }
          ]
         }
        },
        {
         "name": "Creatinina_soro",
         "dtype": "float64",
         "stats": {
          "unique_count": 40,
          "nan_count": 0,
          "min": "0.5",
          "max": "9.4",
          "histogram": [
           {
            "bin_start": 0.5,
            "bin_end": 1.3900000000000001,
            "count": 218
           },
           {
            "bin_start": 1.3900000000000001,
            "bin_end": 2.2800000000000002,
            "count": 53
           },
           {
            "bin_start": 2.2800000000000002,
            "bin_end": 3.17,
            "count": 14
           },
           {
            "bin_start": 3.17,
            "bin_end": 4.0600000000000005,
            "count": 7
           },
           {
            "bin_start": 4.0600000000000005,
            "bin_end": 4.95,
            "count": 1
           },
           {
            "bin_start": 4.95,
            "bin_end": 5.84,
            "count": 2
           },
           {
            "bin_start": 5.84,
            "bin_end": 6.73,
            "count": 1
           },
           {
            "bin_start": 6.73,
            "bin_end": 7.62,
            "count": 1
           },
           {
            "bin_start": 7.62,
            "bin_end": 8.51,
            "count": 0
           },
           {
            "bin_start": 8.51,
            "bin_end": 9.4,
            "count": 2
           }
          ]
         }
        },
        {
         "name": "Sodio_soro",
         "dtype": "int64",
         "stats": {
          "unique_count": 27,
          "nan_count": 0,
          "min": "113",
          "max": "148",
          "histogram": [
           {
            "bin_start": 113,
            "bin_end": 116.5,
            "count": 2
           },
           {
            "bin_start": 116.5,
            "bin_end": 120,
            "count": 0
           },
           {
            "bin_start": 120,
            "bin_end": 123.5,
            "count": 1
           },
           {
            "bin_start": 123.5,
            "bin_end": 127,
            "count": 3
           },
           {
            "bin_start": 127,
            "bin_end": 130.5,
            "count": 16
           },
           {
            "bin_start": 130.5,
            "bin_end": 134,
            "count": 29
           },
           {
            "bin_start": 134,
            "bin_end": 137.5,
            "count": 126
           },
           {
            "bin_start": 137.5,
            "bin_end": 141,
            "count": 80
           },
           {
            "bin_start": 141,
            "bin_end": 144.5,
            "count": 31
           },
           {
            "bin_start": 144.5,
            "bin_end": 148,
            "count": 11
           }
          ]
         }
        },
        {
         "name": "Sexo",
         "dtype": "int64",
         "stats": {
          "unique_count": 2,
          "nan_count": 0,
          "min": "0",
          "max": "1",
          "histogram": [
           {
            "bin_start": 0,
            "bin_end": 0.1,
            "count": 105
           },
           {
            "bin_start": 0.1,
            "bin_end": 0.2,
            "count": 0
           },
           {
            "bin_start": 0.2,
            "bin_end": 0.30000000000000004,
            "count": 0
           },
           {
            "bin_start": 0.30000000000000004,
            "bin_end": 0.4,
            "count": 0
           },
           {
            "bin_start": 0.4,
            "bin_end": 0.5,
            "count": 0
           },
           {
            "bin_start": 0.5,
            "bin_end": 0.6000000000000001,
            "count": 0
           },
           {
            "bin_start": 0.6000000000000001,
            "bin_end": 0.7000000000000001,
            "count": 0
           },
           {
            "bin_start": 0.7000000000000001,
            "bin_end": 0.8,
            "count": 0
           },
           {
            "bin_start": 0.8,
            "bin_end": 0.9,
            "count": 0
           },
           {
            "bin_start": 0.9,
            "bin_end": 1,
            "count": 194
           }
          ]
         }
        },
        {
         "name": "Fumante",
         "dtype": "int64",
         "stats": {
          "unique_count": 2,
          "nan_count": 0,
          "min": "0",
          "max": "1",
          "histogram": [
           {
            "bin_start": 0,
            "bin_end": 0.1,
            "count": 203
           },
           {
            "bin_start": 0.1,
            "bin_end": 0.2,
            "count": 0
           },
           {
            "bin_start": 0.2,
            "bin_end": 0.30000000000000004,
            "count": 0
           },
           {
            "bin_start": 0.30000000000000004,
            "bin_end": 0.4,
            "count": 0
           },
           {
            "bin_start": 0.4,
            "bin_end": 0.5,
            "count": 0
           },
           {
            "bin_start": 0.5,
            "bin_end": 0.6000000000000001,
            "count": 0
           },
           {
            "bin_start": 0.6000000000000001,
            "bin_end": 0.7000000000000001,
            "count": 0
           },
           {
            "bin_start": 0.7000000000000001,
            "bin_end": 0.8,
            "count": 0
           },
           {
            "bin_start": 0.8,
            "bin_end": 0.9,
            "count": 0
           },
           {
            "bin_start": 0.9,
            "bin_end": 1,
            "count": 96
           }
          ]
         }
        },
        {
         "name": "Tempo",
         "dtype": "int64",
         "stats": {
          "unique_count": 148,
          "nan_count": 0,
          "min": "4",
          "max": "285",
          "histogram": [
           {
            "bin_start": 4,
            "bin_end": 32.1,
            "count": 42
           },
           {
            "bin_start": 32.1,
            "bin_end": 60.2,
            "count": 21
           },
           {
            "bin_start": 60.2,
            "bin_end": 88.30000000000001,
            "count": 47
           },
           {
            "bin_start": 88.30000000000001,
            "bin_end": 116.4,
            "count": 41
           },
           {
            "bin_start": 116.4,
            "bin_end": 144.5,
            "count": 18
           },
           {
            "bin_start": 144.5,
            "bin_end": 172.60000000000002,
            "count": 20
           },
           {
            "bin_start": 172.60000000000002,
            "bin_end": 200.70000000000002,
            "count": 33
           },
           {
            "bin_start": 200.70000000000002,
            "bin_end": 228.8,
            "count": 35
           },
           {
            "bin_start": 228.8,
            "bin_end": 256.9,
            "count": 33
           },
           {
            "bin_start": 256.9,
            "bin_end": 285,
            "count": 9
           }
          ]
         }
        },
        {
         "name": "Morte",
         "dtype": "int64",
         "stats": {
          "unique_count": 2,
          "nan_count": 0,
          "min": "0",
          "max": "1",
          "histogram": [
           {
            "bin_start": 0,
            "bin_end": 0.1,
            "count": 203
           },
           {
            "bin_start": 0.1,
            "bin_end": 0.2,
            "count": 0
           },
           {
            "bin_start": 0.2,
            "bin_end": 0.30000000000000004,
            "count": 0
           },
           {
            "bin_start": 0.30000000000000004,
            "bin_end": 0.4,
            "count": 0
           },
           {
            "bin_start": 0.4,
            "bin_end": 0.5,
            "count": 0
           },
           {
            "bin_start": 0.5,
            "bin_end": 0.6000000000000001,
            "count": 0
           },
           {
            "bin_start": 0.6000000000000001,
            "bin_end": 0.7000000000000001,
            "count": 0
           },
           {
            "bin_start": 0.7000000000000001,
            "bin_end": 0.8,
            "count": 0
           },
           {
            "bin_start": 0.8,
            "bin_end": 0.9,
            "count": 0
           },
           {
            "bin_start": 0.9,
            "bin_end": 1,
            "count": 96
           }
          ]
         }
        },
        {
         "name": "_deepnote_index_column",
         "dtype": "int64"
        }
       ],
       "rows": [
        {
         "Idade": 75,
         "Anemia": 0,
         "Creatinafosfoquinase": 582,
         "Diabetes": 0,
         "Fracao_ejecao": 20,
         "Pressao_alta": 1,
         "Plaquetas": 265000,
         "Creatinina_soro": 1.9,
         "Sodio_soro": 130,
         "Sexo": 1,
         "Fumante": 0,
         "Tempo": 4,
         "Morte": 1,
         "_deepnote_index_column": 0
        },
        {
         "Idade": 55,
         "Anemia": 0,
         "Creatinafosfoquinase": 7861,
         "Diabetes": 0,
         "Fracao_ejecao": 38,
         "Pressao_alta": 0,
         "Plaquetas": 263358.03,
         "Creatinina_soro": 1.1,
         "Sodio_soro": 136,
         "Sexo": 1,
         "Fumante": 0,
         "Tempo": 6,
         "Morte": 1,
         "_deepnote_index_column": 1
        },
        {
         "Idade": 65,
         "Anemia": 0,
         "Creatinafosfoquinase": 146,
         "Diabetes": 0,
         "Fracao_ejecao": 20,
         "Pressao_alta": 0,
         "Plaquetas": 162000,
         "Creatinina_soro": 1.3,
         "Sodio_soro": 129,
         "Sexo": 1,
         "Fumante": 1,
         "Tempo": 7,
         "Morte": 1,
         "_deepnote_index_column": 2
        },
        {
         "Idade": 50,
         "Anemia": 1,
         "Creatinafosfoquinase": 111,
         "Diabetes": 0,
         "Fracao_ejecao": 20,
         "Pressao_alta": 0,
         "Plaquetas": 210000,
         "Creatinina_soro": 1.9,
         "Sodio_soro": 137,
         "Sexo": 1,
         "Fumante": 0,
         "Tempo": 7,
         "Morte": 1,
         "_deepnote_index_column": 3
        },
        {
         "Idade": 65,
         "Anemia": 1,
         "Creatinafosfoquinase": 160,
         "Diabetes": 1,
         "Fracao_ejecao": 20,
         "Pressao_alta": 0,
         "Plaquetas": 327000,
         "Creatinina_soro": 2.7,
         "Sodio_soro": 116,
         "Sexo": 0,
         "Fumante": 0,
         "Tempo": 8,
         "Morte": 1,
         "_deepnote_index_column": 4
        },
        {
         "Idade": 90,
         "Anemia": 1,
         "Creatinafosfoquinase": 47,
         "Diabetes": 0,
         "Fracao_ejecao": 40,
         "Pressao_alta": 1,
         "Plaquetas": 204000,
         "Creatinina_soro": 2.1,
         "Sodio_soro": 132,
         "Sexo": 1,
         "Fumante": 1,
         "Tempo": 8,
         "Morte": 1,
         "_deepnote_index_column": 5
        },
        {
         "Idade": 75,
         "Anemia": 1,
         "Creatinafosfoquinase": 246,
         "Diabetes": 0,
         "Fracao_ejecao": 15,
         "Pressao_alta": 0,
         "Plaquetas": 127000,
         "Creatinina_soro": 1.2,
         "Sodio_soro": 137,
         "Sexo": 1,
         "Fumante": 0,
         "Tempo": 10,
         "Morte": 1,
         "_deepnote_index_column": 6
        },
        {
         "Idade": 60,
         "Anemia": 1,
         "Creatinafosfoquinase": 315,
         "Diabetes": 1,
         "Fracao_ejecao": 60,
         "Pressao_alta": 0,
         "Plaquetas": 454000,
         "Creatinina_soro": 1.1,
         "Sodio_soro": 131,
         "Sexo": 1,
         "Fumante": 1,
         "Tempo": 10,
         "Morte": 1,
         "_deepnote_index_column": 7
        },
        {
         "Idade": 65,
         "Anemia": 0,
         "Creatinafosfoquinase": 157,
         "Diabetes": 0,
         "Fracao_ejecao": 65,
         "Pressao_alta": 0,
         "Plaquetas": 263358.03,
         "Creatinina_soro": 1.5,
         "Sodio_soro": 138,
         "Sexo": 0,
         "Fumante": 0,
         "Tempo": 10,
         "Morte": 1,
         "_deepnote_index_column": 8
        },
        {
         "Idade": 80,
         "Anemia": 1,
         "Creatinafosfoquinase": 123,
         "Diabetes": 0,
         "Fracao_ejecao": 35,
         "Pressao_alta": 1,
         "Plaquetas": 388000,
         "Creatinina_soro": 9.4,
         "Sodio_soro": 133,
         "Sexo": 1,
         "Fumante": 1,
         "Tempo": 10,
         "Morte": 1,
         "_deepnote_index_column": 9
        }
       ]
      },
      "text/plain": "     Idade  Anemia  Creatinafosfoquinase  Diabetes  Fracao_ejecao  \\\n0    75.00       0                   582         0             20   \n1    55.00       0                  7861         0             38   \n2    65.00       0                   146         0             20   \n3    50.00       1                   111         0             20   \n4    65.00       1                   160         1             20   \n..     ...     ...                   ...       ...            ...   \n294  62.00       0                    61         1             38   \n295  55.00       0                  1820         0             38   \n296  45.00       0                  2060         1             60   \n297  45.00       0                  2413         0             38   \n298  50.00       0                   196         0             45   \n\n     Pressao_alta  Plaquetas  Creatinina_soro  Sodio_soro  Sexo  Fumante  \\\n0               1  265000.00             1.90         130     1        0   \n1               0  263358.03             1.10         136     1        0   \n2               0  162000.00             1.30         129     1        1   \n3               0  210000.00             1.90         137     1        0   \n4               0  327000.00             2.70         116     0        0   \n..            ...        ...              ...         ...   ...      ...   \n294             1  155000.00             1.10         143     1        1   \n295             0  270000.00             1.20         139     0        0   \n296             0  742000.00             0.80         138     0        0   \n297             0  140000.00             1.40         140     1        1   \n298             0  395000.00             1.60         136     1        1   \n\n     Tempo  Morte  \n0        4      1  \n1        6      1  \n2        7      1  \n3        7      1  \n4        8      1  \n..     ...    ...  \n294    270      0  \n295    271      0  \n296    278      0  \n297    280      0  \n298    285      0  \n\n[299 rows x 13 columns]",
      "text/html": "<div>\n<style scoped>\n    .dataframe tbody tr th:only-of-type {\n        vertical-align: middle;\n    }\n\n    .dataframe tbody tr th {\n        vertical-align: top;\n    }\n\n    .dataframe thead th {\n        text-align: right;\n    }\n</style>\n<table border=\"1\" class=\"dataframe\">\n  <thead>\n    <tr style=\"text-align: right;\">\n      <th></th>\n      <th>Idade</th>\n      <th>Anemia</th>\n      <th>Creatinafosfoquinase</th>\n      <th>Diabetes</th>\n      <th>Fracao_ejecao</th>\n      <th>Pressao_alta</th>\n      <th>Plaquetas</th>\n      <th>Creatinina_soro</th>\n      <th>Sodio_soro</th>\n      <th>Sexo</th>\n      <th>Fumante</th>\n      <th>Tempo</th>\n      <th>Morte</th>\n    </tr>\n  </thead>\n  <tbody>\n    <tr>\n      <th>0</th>\n      <td>75.00</td>\n      <td>0</td>\n      <td>582</td>\n      <td>0</td>\n      <td>20</td>\n      <td>1</td>\n      <td>265000.00</td>\n      <td>1.90</td>\n      <td>130</td>\n      <td>1</td>\n      <td>0</td>\n      <td>4</td>\n      <td>1</td>\n    </tr>\n    <tr>\n      <th>1</th>\n      <td>55.00</td>\n      <td>0</td>\n      <td>7861</td>\n      <td>0</td>\n      <td>38</td>\n      <td>0</td>\n      <td>263358.03</td>\n      <td>1.10</td>\n      <td>136</td>\n      <td>1</td>\n      <td>0</td>\n      <td>6</td>\n      <td>1</td>\n    </tr>\n    <tr>\n      <th>2</th>\n      <td>65.00</td>\n      <td>0</td>\n      <td>146</td>\n      <td>0</td>\n      <td>20</td>\n      <td>0</td>\n      <td>162000.00</td>\n      <td>1.30</td>\n      <td>129</td>\n      <td>1</td>\n      <td>1</td>\n      <td>7</td>\n      <td>1</td>\n    </tr>\n    <tr>\n      <th>3</th>\n      <td>50.00</td>\n      <td>1</td>\n      <td>111</td>\n      <td>0</td>\n      <td>20</td>\n      <td>0</td>\n      <td>210000.00</td>\n      <td>1.90</td>\n      <td>137</td>\n      <td>1</td>\n      <td>0</td>\n      <td>7</td>\n      <td>1</td>\n    </tr>\n    <tr>\n      <th>4</th>\n      <td>65.00</td>\n      <td>1</td>\n      <td>160</td>\n      <td>1</td>\n      <td>20</td>\n      <td>0</td>\n      <td>327000.00</td>\n      <td>2.70</td>\n      <td>116</td>\n      <td>0</td>\n      <td>0</td>\n      <td>8</td>\n      <td>1</td>\n    </tr>\n    <tr>\n      <th>...</th>\n      <td>...</td>\n      <td>...</td>\n      <td>...</td>\n      <td>...</td>\n      <td>...</td>\n      <td>...</td>\n      <td>...</td>\n      <td>...</td>\n      <td>...</td>\n      <td>...</td>\n      <td>...</td>\n      <td>...</td>\n      <td>...</td>\n    </tr>\n    <tr>\n      <th>294</th>\n      <td>62.00</td>\n      <td>0</td>\n      <td>61</td>\n      <td>1</td>\n      <td>38</td>\n      <td>1</td>\n      <td>155000.00</td>\n      <td>1.10</td>\n      <td>143</td>\n      <td>1</td>\n      <td>1</td>\n      <td>270</td>\n      <td>0</td>\n    </tr>\n    <tr>\n      <th>295</th>\n      <td>55.00</td>\n      <td>0</td>\n      <td>1820</td>\n      <td>0</td>\n      <td>38</td>\n      <td>0</td>\n      <td>270000.00</td>\n      <td>1.20</td>\n      <td>139</td>\n      <td>0</td>\n      <td>0</td>\n      <td>271</td>\n      <td>0</td>\n    </tr>\n    <tr>\n      <th>296</th>\n      <td>45.00</td>\n      <td>0</td>\n      <td>2060</td>\n      <td>1</td>\n      <td>60</td>\n      <td>0</td>\n      <td>742000.00</td>\n      <td>0.80</td>\n      <td>138</td>\n      <td>0</td>\n      <td>0</td>\n      <td>278</td>\n      <td>0</td>\n    </tr>\n    <tr>\n      <th>297</th>\n      <td>45.00</td>\n      <td>0</td>\n      <td>2413</td>\n      <td>0</td>\n      <td>38</td>\n      <td>0</td>\n      <td>140000.00</td>\n      <td>1.40</td>\n      <td>140</td>\n      <td>1</td>\n      <td>1</td>\n      <td>280</td>\n      <td>0</td>\n    </tr>\n    <tr>\n      <th>298</th>\n      <td>50.00</td>\n      <td>0</td>\n      <td>196</td>\n      <td>0</td>\n      <td>45</td>\n      <td>0</td>\n      <td>395000.00</td>\n      <td>1.60</td>\n      <td>136</td>\n      <td>1</td>\n      <td>1</td>\n      <td>285</td>\n      <td>0</td>\n    </tr>\n  </tbody>\n</table>\n<p>299 rows × 13 columns</p>\n</div>"
     },
     "metadata": {},
     "output_type": "display_data"
    }
   ],
   "execution_count": 9
  },
  {
   "cell_type": "code",
   "metadata": {
    "cell_id": "1960707e-aec3-4e34-a03f-341b3b87d9b8",
    "tags": [],
    "deepnote_to_be_reexecuted": false,
    "source_hash": "f6c5f682",
    "execution_start": 1643547500004,
    "execution_millis": 55,
    "deepnote_output_heights": [
     232
    ],
    "deepnote_cell_type": "code"
   },
   "source": "# Trocando o tipo das variáveis int para bool:\n\ncolunas_para_troca = [['Anemia'], ['Diabetes'], ['Pressao_alta'], ['Sexo'], ['Fumante'], ['Morte']]\nfor coluna in colunas_para_troca:\n    df[coluna] = df[coluna].astype(bool)\n\n# Depois:\ndisplay(df)",
   "execution_count": 10,
   "outputs": [
    {
     "data": {
      "application/vnd.deepnote.dataframe.v3+json": {
       "column_count": 13,
       "row_count": 299,
       "columns": [
        {
         "name": "Idade",
         "dtype": "float64",
         "stats": {
          "unique_count": 47,
          "nan_count": 0,
          "min": "40.0",
          "max": "95.0",
          "histogram": [
           {
            "bin_start": 40,
            "bin_end": 45.5,
            "count": 37
           },
           {
            "bin_start": 45.5,
            "bin_end": 51,
            "count": 37
           },
           {
            "bin_start": 51,
            "bin_end": 56.5,
            "count": 39
           },
           {
            "bin_start": 56.5,
            "bin_end": 62,
            "count": 55
           },
           {
            "bin_start": 62,
            "bin_end": 67.5,
            "count": 46
           },
           {
            "bin_start": 67.5,
            "bin_end": 73,
            "count": 40
           },
           {
            "bin_start": 73,
            "bin_end": 78.5,
            "count": 19
           },
           {
            "bin_start": 78.5,
            "bin_end": 84,
            "count": 12
           },
           {
            "bin_start": 84,
            "bin_end": 89.5,
            "count": 8
           },
           {
            "bin_start": 89.5,
            "bin_end": 95,
            "count": 6
           }
          ]
         }
        },
        {
         "name": "Anemia",
         "dtype": "bool",
         "stats": {
          "unique_count": 2,
          "nan_count": 0,
          "categories": [
           {
            "name": "False",
            "count": 170
           },
           {
            "name": "True",
            "count": 129
           }
          ]
         }
        },
        {
         "name": "Creatinafosfoquinase",
         "dtype": "int64",
         "stats": {
          "unique_count": 208,
          "nan_count": 0,
          "min": "23",
          "max": "7861",
          "histogram": [
           {
            "bin_start": 23,
            "bin_end": 806.8,
            "count": 252
           },
           {
            "bin_start": 806.8,
            "bin_end": 1590.6,
            "count": 21
           },
           {
            "bin_start": 1590.6,
            "bin_end": 2374.3999999999996,
            "count": 13
           },
           {
            "bin_start": 2374.3999999999996,
            "bin_end": 3158.2,
            "count": 6
           },
           {
            "bin_start": 3158.2,
            "bin_end": 3942,
            "count": 0
           },
           {
            "bin_start": 3942,
            "bin_end": 4725.799999999999,
            "count": 3
           },
           {
            "bin_start": 4725.799999999999,
            "bin_end": 5509.599999999999,
            "count": 1
           },
           {
            "bin_start": 5509.599999999999,
            "bin_end": 6293.4,
            "count": 1
           },
           {
            "bin_start": 6293.4,
            "bin_end": 7077.2,
            "count": 0
           },
           {
            "bin_start": 7077.2,
            "bin_end": 7861,
            "count": 2
           }
          ]
         }
        },
        {
         "name": "Diabetes",
         "dtype": "bool",
         "stats": {
          "unique_count": 2,
          "nan_count": 0,
          "categories": [
           {
            "name": "False",
            "count": 174
           },
           {
            "name": "True",
            "count": 125
           }
          ]
         }
        },
        {
         "name": "Fracao_ejecao",
         "dtype": "int64",
         "stats": {
          "unique_count": 17,
          "nan_count": 0,
          "min": "14",
          "max": "80",
          "histogram": [
           {
            "bin_start": 14,
            "bin_end": 20.6,
            "count": 23
           },
           {
            "bin_start": 20.6,
            "bin_end": 27.2,
            "count": 36
           },
           {
            "bin_start": 27.2,
            "bin_end": 33.8,
            "count": 34
           },
           {
            "bin_start": 33.8,
            "bin_end": 40.4,
            "count": 126
           },
           {
            "bin_start": 40.4,
            "bin_end": 47,
            "count": 20
           },
           {
            "bin_start": 47,
            "bin_end": 53.599999999999994,
            "count": 21
           },
           {
            "bin_start": 53.599999999999994,
            "bin_end": 60.199999999999996,
            "count": 34
           },
           {
            "bin_start": 60.199999999999996,
            "bin_end": 66.8,
            "count": 3
           },
           {
            "bin_start": 66.8,
            "bin_end": 73.4,
            "count": 1
           },
           {
            "bin_start": 73.4,
            "bin_end": 80,
            "count": 1
           }
          ]
         }
        },
        {
         "name": "Pressao_alta",
         "dtype": "bool",
         "stats": {
          "unique_count": 2,
          "nan_count": 0,
          "categories": [
           {
            "name": "False",
            "count": 194
           },
           {
            "name": "True",
            "count": 105
           }
          ]
         }
        },
        {
         "name": "Plaquetas",
         "dtype": "float64",
         "stats": {
          "unique_count": 176,
          "nan_count": 0,
          "min": "25100.0",
          "max": "850000.0",
          "histogram": [
           {
            "bin_start": 25100,
            "bin_end": 107590,
            "count": 9
           },
           {
            "bin_start": 107590,
            "bin_end": 190080,
            "count": 46
           },
           {
            "bin_start": 190080,
            "bin_end": 272570,
            "count": 136
           },
           {
            "bin_start": 272570,
            "bin_end": 355060,
            "count": 67
           },
           {
            "bin_start": 355060,
            "bin_end": 437550,
            "count": 27
           },
           {
            "bin_start": 437550,
            "bin_end": 520040,
            "count": 9
           },
           {
            "bin_start": 520040,
            "bin_end": 602530,
            "count": 2
           },
           {
            "bin_start": 602530,
            "bin_end": 685020,
            "count": 1
           },
           {
            "bin_start": 685020,
            "bin_end": 767510,
            "count": 1
           },
           {
            "bin_start": 767510,
            "bin_end": 850000,
            "count": 1
           }
          ]
         }
        },
        {
         "name": "Creatinina_soro",
         "dtype": "float64",
         "stats": {
          "unique_count": 40,
          "nan_count": 0,
          "min": "0.5",
          "max": "9.4",
          "histogram": [
           {
            "bin_start": 0.5,
            "bin_end": 1.3900000000000001,
            "count": 218
           },
           {
            "bin_start": 1.3900000000000001,
            "bin_end": 2.2800000000000002,
            "count": 53
           },
           {
            "bin_start": 2.2800000000000002,
            "bin_end": 3.17,
            "count": 14
           },
           {
            "bin_start": 3.17,
            "bin_end": 4.0600000000000005,
            "count": 7
           },
           {
            "bin_start": 4.0600000000000005,
            "bin_end": 4.95,
            "count": 1
           },
           {
            "bin_start": 4.95,
            "bin_end": 5.84,
            "count": 2
           },
           {
            "bin_start": 5.84,
            "bin_end": 6.73,
            "count": 1
           },
           {
            "bin_start": 6.73,
            "bin_end": 7.62,
            "count": 1
           },
           {
            "bin_start": 7.62,
            "bin_end": 8.51,
            "count": 0
           },
           {
            "bin_start": 8.51,
            "bin_end": 9.4,
            "count": 2
           }
          ]
         }
        },
        {
         "name": "Sodio_soro",
         "dtype": "int64",
         "stats": {
          "unique_count": 27,
          "nan_count": 0,
          "min": "113",
          "max": "148",
          "histogram": [
           {
            "bin_start": 113,
            "bin_end": 116.5,
            "count": 2
           },
           {
            "bin_start": 116.5,
            "bin_end": 120,
            "count": 0
           },
           {
            "bin_start": 120,
            "bin_end": 123.5,
            "count": 1
           },
           {
            "bin_start": 123.5,
            "bin_end": 127,
            "count": 3
           },
           {
            "bin_start": 127,
            "bin_end": 130.5,
            "count": 16
           },
           {
            "bin_start": 130.5,
            "bin_end": 134,
            "count": 29
           },
           {
            "bin_start": 134,
            "bin_end": 137.5,
            "count": 126
           },
           {
            "bin_start": 137.5,
            "bin_end": 141,
            "count": 80
           },
           {
            "bin_start": 141,
            "bin_end": 144.5,
            "count": 31
           },
           {
            "bin_start": 144.5,
            "bin_end": 148,
            "count": 11
           }
          ]
         }
        },
        {
         "name": "Sexo",
         "dtype": "bool",
         "stats": {
          "unique_count": 2,
          "nan_count": 0,
          "categories": [
           {
            "name": "True",
            "count": 194
           },
           {
            "name": "False",
            "count": 105
           }
          ]
         }
        },
        {
         "name": "Fumante",
         "dtype": "bool",
         "stats": {
          "unique_count": 2,
          "nan_count": 0,
          "categories": [
           {
            "name": "False",
            "count": 203
           },
           {
            "name": "True",
            "count": 96
           }
          ]
         }
        },
        {
         "name": "Tempo",
         "dtype": "int64",
         "stats": {
          "unique_count": 148,
          "nan_count": 0,
          "min": "4",
          "max": "285",
          "histogram": [
           {
            "bin_start": 4,
            "bin_end": 32.1,
            "count": 42
           },
           {
            "bin_start": 32.1,
            "bin_end": 60.2,
            "count": 21
           },
           {
            "bin_start": 60.2,
            "bin_end": 88.30000000000001,
            "count": 47
           },
           {
            "bin_start": 88.30000000000001,
            "bin_end": 116.4,
            "count": 41
           },
           {
            "bin_start": 116.4,
            "bin_end": 144.5,
            "count": 18
           },
           {
            "bin_start": 144.5,
            "bin_end": 172.60000000000002,
            "count": 20
           },
           {
            "bin_start": 172.60000000000002,
            "bin_end": 200.70000000000002,
            "count": 33
           },
           {
            "bin_start": 200.70000000000002,
            "bin_end": 228.8,
            "count": 35
           },
           {
            "bin_start": 228.8,
            "bin_end": 256.9,
            "count": 33
           },
           {
            "bin_start": 256.9,
            "bin_end": 285,
            "count": 9
           }
          ]
         }
        },
        {
         "name": "Morte",
         "dtype": "bool",
         "stats": {
          "unique_count": 2,
          "nan_count": 0,
          "categories": [
           {
            "name": "False",
            "count": 203
           },
           {
            "name": "True",
            "count": 96
           }
          ]
         }
        },
        {
         "name": "_deepnote_index_column",
         "dtype": "int64"
        }
       ],
       "rows": [
        {
         "Idade": 75,
         "Anemia": false,
         "Creatinafosfoquinase": 582,
         "Diabetes": false,
         "Fracao_ejecao": 20,
         "Pressao_alta": true,
         "Plaquetas": 265000,
         "Creatinina_soro": 1.9,
         "Sodio_soro": 130,
         "Sexo": true,
         "Fumante": false,
         "Tempo": 4,
         "Morte": true,
         "_deepnote_index_column": 0
        },
        {
         "Idade": 55,
         "Anemia": false,
         "Creatinafosfoquinase": 7861,
         "Diabetes": false,
         "Fracao_ejecao": 38,
         "Pressao_alta": false,
         "Plaquetas": 263358.03,
         "Creatinina_soro": 1.1,
         "Sodio_soro": 136,
         "Sexo": true,
         "Fumante": false,
         "Tempo": 6,
         "Morte": true,
         "_deepnote_index_column": 1
        },
        {
         "Idade": 65,
         "Anemia": false,
         "Creatinafosfoquinase": 146,
         "Diabetes": false,
         "Fracao_ejecao": 20,
         "Pressao_alta": false,
         "Plaquetas": 162000,
         "Creatinina_soro": 1.3,
         "Sodio_soro": 129,
         "Sexo": true,
         "Fumante": true,
         "Tempo": 7,
         "Morte": true,
         "_deepnote_index_column": 2
        },
        {
         "Idade": 50,
         "Anemia": true,
         "Creatinafosfoquinase": 111,
         "Diabetes": false,
         "Fracao_ejecao": 20,
         "Pressao_alta": false,
         "Plaquetas": 210000,
         "Creatinina_soro": 1.9,
         "Sodio_soro": 137,
         "Sexo": true,
         "Fumante": false,
         "Tempo": 7,
         "Morte": true,
         "_deepnote_index_column": 3
        },
        {
         "Idade": 65,
         "Anemia": true,
         "Creatinafosfoquinase": 160,
         "Diabetes": true,
         "Fracao_ejecao": 20,
         "Pressao_alta": false,
         "Plaquetas": 327000,
         "Creatinina_soro": 2.7,
         "Sodio_soro": 116,
         "Sexo": false,
         "Fumante": false,
         "Tempo": 8,
         "Morte": true,
         "_deepnote_index_column": 4
        },
        {
         "Idade": 90,
         "Anemia": true,
         "Creatinafosfoquinase": 47,
         "Diabetes": false,
         "Fracao_ejecao": 40,
         "Pressao_alta": true,
         "Plaquetas": 204000,
         "Creatinina_soro": 2.1,
         "Sodio_soro": 132,
         "Sexo": true,
         "Fumante": true,
         "Tempo": 8,
         "Morte": true,
         "_deepnote_index_column": 5
        },
        {
         "Idade": 75,
         "Anemia": true,
         "Creatinafosfoquinase": 246,
         "Diabetes": false,
         "Fracao_ejecao": 15,
         "Pressao_alta": false,
         "Plaquetas": 127000,
         "Creatinina_soro": 1.2,
         "Sodio_soro": 137,
         "Sexo": true,
         "Fumante": false,
         "Tempo": 10,
         "Morte": true,
         "_deepnote_index_column": 6
        },
        {
         "Idade": 60,
         "Anemia": true,
         "Creatinafosfoquinase": 315,
         "Diabetes": true,
         "Fracao_ejecao": 60,
         "Pressao_alta": false,
         "Plaquetas": 454000,
         "Creatinina_soro": 1.1,
         "Sodio_soro": 131,
         "Sexo": true,
         "Fumante": true,
         "Tempo": 10,
         "Morte": true,
         "_deepnote_index_column": 7
        },
        {
         "Idade": 65,
         "Anemia": false,
         "Creatinafosfoquinase": 157,
         "Diabetes": false,
         "Fracao_ejecao": 65,
         "Pressao_alta": false,
         "Plaquetas": 263358.03,
         "Creatinina_soro": 1.5,
         "Sodio_soro": 138,
         "Sexo": false,
         "Fumante": false,
         "Tempo": 10,
         "Morte": true,
         "_deepnote_index_column": 8
        },
        {
         "Idade": 80,
         "Anemia": true,
         "Creatinafosfoquinase": 123,
         "Diabetes": false,
         "Fracao_ejecao": 35,
         "Pressao_alta": true,
         "Plaquetas": 388000,
         "Creatinina_soro": 9.4,
         "Sodio_soro": 133,
         "Sexo": true,
         "Fumante": true,
         "Tempo": 10,
         "Morte": true,
         "_deepnote_index_column": 9
        }
       ]
      },
      "text/plain": "     Idade  Anemia  Creatinafosfoquinase  Diabetes  Fracao_ejecao  \\\n0    75.00   False                   582     False             20   \n1    55.00   False                  7861     False             38   \n2    65.00   False                   146     False             20   \n3    50.00    True                   111     False             20   \n4    65.00    True                   160      True             20   \n..     ...     ...                   ...       ...            ...   \n294  62.00   False                    61      True             38   \n295  55.00   False                  1820     False             38   \n296  45.00   False                  2060      True             60   \n297  45.00   False                  2413     False             38   \n298  50.00   False                   196     False             45   \n\n     Pressao_alta  Plaquetas  Creatinina_soro  Sodio_soro   Sexo  Fumante  \\\n0            True  265000.00             1.90         130   True    False   \n1           False  263358.03             1.10         136   True    False   \n2           False  162000.00             1.30         129   True     True   \n3           False  210000.00             1.90         137   True    False   \n4           False  327000.00             2.70         116  False    False   \n..            ...        ...              ...         ...    ...      ...   \n294          True  155000.00             1.10         143   True     True   \n295         False  270000.00             1.20         139  False    False   \n296         False  742000.00             0.80         138  False    False   \n297         False  140000.00             1.40         140   True     True   \n298         False  395000.00             1.60         136   True     True   \n\n     Tempo  Morte  \n0        4   True  \n1        6   True  \n2        7   True  \n3        7   True  \n4        8   True  \n..     ...    ...  \n294    270  False  \n295    271  False  \n296    278  False  \n297    280  False  \n298    285  False  \n\n[299 rows x 13 columns]",
      "text/html": "<div>\n<style scoped>\n    .dataframe tbody tr th:only-of-type {\n        vertical-align: middle;\n    }\n\n    .dataframe tbody tr th {\n        vertical-align: top;\n    }\n\n    .dataframe thead th {\n        text-align: right;\n    }\n</style>\n<table border=\"1\" class=\"dataframe\">\n  <thead>\n    <tr style=\"text-align: right;\">\n      <th></th>\n      <th>Idade</th>\n      <th>Anemia</th>\n      <th>Creatinafosfoquinase</th>\n      <th>Diabetes</th>\n      <th>Fracao_ejecao</th>\n      <th>Pressao_alta</th>\n      <th>Plaquetas</th>\n      <th>Creatinina_soro</th>\n      <th>Sodio_soro</th>\n      <th>Sexo</th>\n      <th>Fumante</th>\n      <th>Tempo</th>\n      <th>Morte</th>\n    </tr>\n  </thead>\n  <tbody>\n    <tr>\n      <th>0</th>\n      <td>75.00</td>\n      <td>False</td>\n      <td>582</td>\n      <td>False</td>\n      <td>20</td>\n      <td>True</td>\n      <td>265000.00</td>\n      <td>1.90</td>\n      <td>130</td>\n      <td>True</td>\n      <td>False</td>\n      <td>4</td>\n      <td>True</td>\n    </tr>\n    <tr>\n      <th>1</th>\n      <td>55.00</td>\n      <td>False</td>\n      <td>7861</td>\n      <td>False</td>\n      <td>38</td>\n      <td>False</td>\n      <td>263358.03</td>\n      <td>1.10</td>\n      <td>136</td>\n      <td>True</td>\n      <td>False</td>\n      <td>6</td>\n      <td>True</td>\n    </tr>\n    <tr>\n      <th>2</th>\n      <td>65.00</td>\n      <td>False</td>\n      <td>146</td>\n      <td>False</td>\n      <td>20</td>\n      <td>False</td>\n      <td>162000.00</td>\n      <td>1.30</td>\n      <td>129</td>\n      <td>True</td>\n      <td>True</td>\n      <td>7</td>\n      <td>True</td>\n    </tr>\n    <tr>\n      <th>3</th>\n      <td>50.00</td>\n      <td>True</td>\n      <td>111</td>\n      <td>False</td>\n      <td>20</td>\n      <td>False</td>\n      <td>210000.00</td>\n      <td>1.90</td>\n      <td>137</td>\n      <td>True</td>\n      <td>False</td>\n      <td>7</td>\n      <td>True</td>\n    </tr>\n    <tr>\n      <th>4</th>\n      <td>65.00</td>\n      <td>True</td>\n      <td>160</td>\n      <td>True</td>\n      <td>20</td>\n      <td>False</td>\n      <td>327000.00</td>\n      <td>2.70</td>\n      <td>116</td>\n      <td>False</td>\n      <td>False</td>\n      <td>8</td>\n      <td>True</td>\n    </tr>\n    <tr>\n      <th>...</th>\n      <td>...</td>\n      <td>...</td>\n      <td>...</td>\n      <td>...</td>\n      <td>...</td>\n      <td>...</td>\n      <td>...</td>\n      <td>...</td>\n      <td>...</td>\n      <td>...</td>\n      <td>...</td>\n      <td>...</td>\n      <td>...</td>\n    </tr>\n    <tr>\n      <th>294</th>\n      <td>62.00</td>\n      <td>False</td>\n      <td>61</td>\n      <td>True</td>\n      <td>38</td>\n      <td>True</td>\n      <td>155000.00</td>\n      <td>1.10</td>\n      <td>143</td>\n      <td>True</td>\n      <td>True</td>\n      <td>270</td>\n      <td>False</td>\n    </tr>\n    <tr>\n      <th>295</th>\n      <td>55.00</td>\n      <td>False</td>\n      <td>1820</td>\n      <td>False</td>\n      <td>38</td>\n      <td>False</td>\n      <td>270000.00</td>\n      <td>1.20</td>\n      <td>139</td>\n      <td>False</td>\n      <td>False</td>\n      <td>271</td>\n      <td>False</td>\n    </tr>\n    <tr>\n      <th>296</th>\n      <td>45.00</td>\n      <td>False</td>\n      <td>2060</td>\n      <td>True</td>\n      <td>60</td>\n      <td>False</td>\n      <td>742000.00</td>\n      <td>0.80</td>\n      <td>138</td>\n      <td>False</td>\n      <td>False</td>\n      <td>278</td>\n      <td>False</td>\n    </tr>\n    <tr>\n      <th>297</th>\n      <td>45.00</td>\n      <td>False</td>\n      <td>2413</td>\n      <td>False</td>\n      <td>38</td>\n      <td>False</td>\n      <td>140000.00</td>\n      <td>1.40</td>\n      <td>140</td>\n      <td>True</td>\n      <td>True</td>\n      <td>280</td>\n      <td>False</td>\n    </tr>\n    <tr>\n      <th>298</th>\n      <td>50.00</td>\n      <td>False</td>\n      <td>196</td>\n      <td>False</td>\n      <td>45</td>\n      <td>False</td>\n      <td>395000.00</td>\n      <td>1.60</td>\n      <td>136</td>\n      <td>True</td>\n      <td>True</td>\n      <td>285</td>\n      <td>False</td>\n    </tr>\n  </tbody>\n</table>\n<p>299 rows × 13 columns</p>\n</div>"
     },
     "metadata": {},
     "output_type": "display_data"
    }
   ]
  },
  {
   "cell_type": "markdown",
   "source": "Agora sim podemos usar o método .describe() para obter dados estatísticos gerais das variáveis quantitativas (numéricas):",
   "metadata": {
    "cell_id": "a190fdda-ff1f-4ff9-a0f3-aab884a1faf8",
    "tags": [],
    "deepnote_cell_type": "markdown"
   }
  },
  {
   "cell_type": "code",
   "metadata": {
    "cell_id": "00025-4ac1cf8e-3c76-4dba-bef6-e05f86f3c218",
    "deepnote_to_be_reexecuted": false,
    "source_hash": "f88152d9",
    "execution_start": 1643547500057,
    "execution_millis": 71,
    "deepnote_output_heights": [
     611
    ],
    "deepnote_cell_type": "code"
   },
   "source": "df.describe()",
   "execution_count": 11,
   "outputs": [
    {
     "output_type": "execute_result",
     "execution_count": 11,
     "data": {
      "application/vnd.deepnote.dataframe.v3+json": {
       "column_count": 7,
       "row_count": 8,
       "columns": [
        {
         "name": "Idade",
         "dtype": "float64",
         "stats": {
          "unique_count": 8,
          "nan_count": 0,
          "min": "11.89480907404447",
          "max": "299.0",
          "histogram": [
           {
            "bin_start": 11.89480907404447,
            "bin_end": 40.60532816664002,
            "count": 2
           },
           {
            "bin_start": 40.60532816664002,
            "bin_end": 69.31584725923558,
            "count": 3
           },
           {
            "bin_start": 69.31584725923558,
            "bin_end": 98.02636635183114,
            "count": 2
           },
           {
            "bin_start": 98.02636635183114,
            "bin_end": 126.73688544442669,
            "count": 0
           },
           {
            "bin_start": 126.73688544442669,
            "bin_end": 155.44740453702224,
            "count": 0
           },
           {
            "bin_start": 155.44740453702224,
            "bin_end": 184.1579236296178,
            "count": 0
           },
           {
            "bin_start": 184.1579236296178,
            "bin_end": 212.86844272221336,
            "count": 0
           },
           {
            "bin_start": 212.86844272221336,
            "bin_end": 241.5789618148089,
            "count": 0
           },
           {
            "bin_start": 241.5789618148089,
            "bin_end": 270.2894809074045,
            "count": 0
           },
           {
            "bin_start": 270.2894809074045,
            "bin_end": 299,
            "count": 1
           }
          ]
         }
        },
        {
         "name": "Creatinafosfoquinase",
         "dtype": "float64",
         "stats": {
          "unique_count": 8,
          "nan_count": 0,
          "min": "23.0",
          "max": "7861.0",
          "histogram": [
           {
            "bin_start": 23,
            "bin_end": 806.8,
            "count": 6
           },
           {
            "bin_start": 806.8,
            "bin_end": 1590.6,
            "count": 1
           },
           {
            "bin_start": 1590.6,
            "bin_end": 2374.3999999999996,
            "count": 0
           },
           {
            "bin_start": 2374.3999999999996,
            "bin_end": 3158.2,
            "count": 0
           },
           {
            "bin_start": 3158.2,
            "bin_end": 3942,
            "count": 0
           },
           {
            "bin_start": 3942,
            "bin_end": 4725.799999999999,
            "count": 0
           },
           {
            "bin_start": 4725.799999999999,
            "bin_end": 5509.599999999999,
            "count": 0
           },
           {
            "bin_start": 5509.599999999999,
            "bin_end": 6293.4,
            "count": 0
           },
           {
            "bin_start": 6293.4,
            "bin_end": 7077.2,
            "count": 0
           },
           {
            "bin_start": 7077.2,
            "bin_end": 7861,
            "count": 1
           }
          ]
         }
        },
        {
         "name": "Fracao_ejecao",
         "dtype": "float64",
         "stats": {
          "unique_count": 8,
          "nan_count": 0,
          "min": "11.834840741039171",
          "max": "299.0",
          "histogram": [
           {
            "bin_start": 11.834840741039171,
            "bin_end": 40.551356666935256,
            "count": 5
           },
           {
            "bin_start": 40.551356666935256,
            "bin_end": 69.26787259283134,
            "count": 1
           },
           {
            "bin_start": 69.26787259283134,
            "bin_end": 97.98438851872741,
            "count": 1
           },
           {
            "bin_start": 97.98438851872741,
            "bin_end": 126.7009044446235,
            "count": 0
           },
           {
            "bin_start": 126.7009044446235,
            "bin_end": 155.41742037051958,
            "count": 0
           },
           {
            "bin_start": 155.41742037051958,
            "bin_end": 184.13393629641564,
            "count": 0
           },
           {
            "bin_start": 184.13393629641564,
            "bin_end": 212.85045222231173,
            "count": 0
           },
           {
            "bin_start": 212.85045222231173,
            "bin_end": 241.56696814820782,
            "count": 0
           },
           {
            "bin_start": 241.56696814820782,
            "bin_end": 270.2834840741039,
            "count": 0
           },
           {
            "bin_start": 270.2834840741039,
            "bin_end": 299,
            "count": 1
           }
          ]
         }
        },
        {
         "name": "Plaquetas",
         "dtype": "float64",
         "stats": {
          "unique_count": 8,
          "nan_count": 0,
          "min": "299.0",
          "max": "850000.0",
          "histogram": [
           {
            "bin_start": 299,
            "bin_end": 85269.1,
            "count": 2
           },
           {
            "bin_start": 85269.1,
            "bin_end": 170239.2,
            "count": 1
           },
           {
            "bin_start": 170239.2,
            "bin_end": 255209.30000000002,
            "count": 1
           },
           {
            "bin_start": 255209.30000000002,
            "bin_end": 340179.4,
            "count": 3
           },
           {
            "bin_start": 340179.4,
            "bin_end": 425149.5,
            "count": 0
           },
           {
            "bin_start": 425149.5,
            "bin_end": 510119.60000000003,
            "count": 0
           },
           {
            "bin_start": 510119.60000000003,
            "bin_end": 595089.7000000001,
            "count": 0
           },
           {
            "bin_start": 595089.7000000001,
            "bin_end": 680059.8,
            "count": 0
           },
           {
            "bin_start": 680059.8,
            "bin_end": 765029.9,
            "count": 0
           },
           {
            "bin_start": 765029.9,
            "bin_end": 850000,
            "count": 1
           }
          ]
         }
        },
        {
         "name": "Creatinina_soro",
         "dtype": "float64",
         "stats": {
          "unique_count": 8,
          "nan_count": 0,
          "min": "0.5",
          "max": "299.0",
          "histogram": [
           {
            "bin_start": 0.5,
            "bin_end": 30.35,
            "count": 7
           },
           {
            "bin_start": 30.35,
            "bin_end": 60.2,
            "count": 0
           },
           {
            "bin_start": 60.2,
            "bin_end": 90.05000000000001,
            "count": 0
           },
           {
            "bin_start": 90.05000000000001,
            "bin_end": 119.9,
            "count": 0
           },
           {
            "bin_start": 119.9,
            "bin_end": 149.75,
            "count": 0
           },
           {
            "bin_start": 149.75,
            "bin_end": 179.60000000000002,
            "count": 0
           },
           {
            "bin_start": 179.60000000000002,
            "bin_end": 209.45000000000002,
            "count": 0
           },
           {
            "bin_start": 209.45000000000002,
            "bin_end": 239.3,
            "count": 0
           },
           {
            "bin_start": 239.3,
            "bin_end": 269.15000000000003,
            "count": 0
           },
           {
            "bin_start": 269.15000000000003,
            "bin_end": 299,
            "count": 1
           }
          ]
         }
        },
        {
         "name": "Sodio_soro",
         "dtype": "float64",
         "stats": {
          "unique_count": 8,
          "nan_count": 0,
          "min": "4.412477283909235",
          "max": "299.0",
          "histogram": [
           {
            "bin_start": 4.412477283909235,
            "bin_end": 33.87122955551831,
            "count": 1
           },
           {
            "bin_start": 33.87122955551831,
            "bin_end": 63.329981827127384,
            "count": 0
           },
           {
            "bin_start": 63.329981827127384,
            "bin_end": 92.78873409873647,
            "count": 0
           },
           {
            "bin_start": 92.78873409873647,
            "bin_end": 122.24748637034554,
            "count": 1
           },
           {
            "bin_start": 122.24748637034554,
            "bin_end": 151.7062386419546,
            "count": 5
           },
           {
            "bin_start": 151.7062386419546,
            "bin_end": 181.16499091356368,
            "count": 0
           },
           {
            "bin_start": 181.16499091356368,
            "bin_end": 210.62374318517274,
            "count": 0
           },
           {
            "bin_start": 210.62374318517274,
            "bin_end": 240.08249545678183,
            "count": 0
           },
           {
            "bin_start": 240.08249545678183,
            "bin_end": 269.54124772839094,
            "count": 0
           },
           {
            "bin_start": 269.54124772839094,
            "bin_end": 299,
            "count": 1
           }
          ]
         }
        },
        {
         "name": "Tempo",
         "dtype": "float64",
         "stats": {
          "unique_count": 8,
          "nan_count": 0,
          "min": "4.0",
          "max": "299.0",
          "histogram": [
           {
            "bin_start": 4,
            "bin_end": 33.5,
            "count": 1
           },
           {
            "bin_start": 33.5,
            "bin_end": 63,
            "count": 0
           },
           {
            "bin_start": 63,
            "bin_end": 92.5,
            "count": 2
           },
           {
            "bin_start": 92.5,
            "bin_end": 122,
            "count": 1
           },
           {
            "bin_start": 122,
            "bin_end": 151.5,
            "count": 1
           },
           {
            "bin_start": 151.5,
            "bin_end": 181,
            "count": 0
           },
           {
            "bin_start": 181,
            "bin_end": 210.5,
            "count": 1
           },
           {
            "bin_start": 210.5,
            "bin_end": 240,
            "count": 0
           },
           {
            "bin_start": 240,
            "bin_end": 269.5,
            "count": 0
           },
           {
            "bin_start": 269.5,
            "bin_end": 299,
            "count": 2
           }
          ]
         }
        },
        {
         "name": "_deepnote_index_column",
         "dtype": "object"
        }
       ],
       "rows": [
        {
         "Idade": 299,
         "Creatinafosfoquinase": 299,
         "Fracao_ejecao": 299,
         "Plaquetas": 299,
         "Creatinina_soro": 299,
         "Sodio_soro": 299,
         "Tempo": 299,
         "_deepnote_index_column": "count"
        },
        {
         "Idade": 60.83389297658862,
         "Creatinafosfoquinase": 581.8394648829432,
         "Fracao_ejecao": 38.08361204013378,
         "Plaquetas": 263358.02926421404,
         "Creatinina_soro": 1.3938795986622072,
         "Sodio_soro": 136.62541806020067,
         "Tempo": 130.2608695652174,
         "_deepnote_index_column": "mean"
        },
        {
         "Idade": 11.89480907404447,
         "Creatinafosfoquinase": 970.2878807124362,
         "Fracao_ejecao": 11.834840741039171,
         "Plaquetas": 97804.2368685983,
         "Creatinina_soro": 1.0345100640898541,
         "Sodio_soro": 4.412477283909235,
         "Tempo": 77.61420795029339,
         "_deepnote_index_column": "std"
        },
        {
         "Idade": 40,
         "Creatinafosfoquinase": 23,
         "Fracao_ejecao": 14,
         "Plaquetas": 25100,
         "Creatinina_soro": 0.5,
         "Sodio_soro": 113,
         "Tempo": 4,
         "_deepnote_index_column": "min"
        },
        {
         "Idade": 51,
         "Creatinafosfoquinase": 116.5,
         "Fracao_ejecao": 30,
         "Plaquetas": 212500,
         "Creatinina_soro": 0.9,
         "Sodio_soro": 134,
         "Tempo": 73,
         "_deepnote_index_column": "25%"
        },
        {
         "Idade": 60,
         "Creatinafosfoquinase": 250,
         "Fracao_ejecao": 38,
         "Plaquetas": 262000,
         "Creatinina_soro": 1.1,
         "Sodio_soro": 137,
         "Tempo": 115,
         "_deepnote_index_column": "50%"
        },
        {
         "Idade": 70,
         "Creatinafosfoquinase": 582,
         "Fracao_ejecao": 45,
         "Plaquetas": 303500,
         "Creatinina_soro": 1.4,
         "Sodio_soro": 140,
         "Tempo": 203,
         "_deepnote_index_column": "75%"
        },
        {
         "Idade": 95,
         "Creatinafosfoquinase": 7861,
         "Fracao_ejecao": 80,
         "Plaquetas": 850000,
         "Creatinina_soro": 9.4,
         "Sodio_soro": 148,
         "Tempo": 285,
         "_deepnote_index_column": "max"
        }
       ]
      },
      "text/plain": "       Idade  Creatinafosfoquinase  Fracao_ejecao  Plaquetas  Creatinina_soro  \\\ncount 299.00                299.00         299.00     299.00           299.00   \nmean   60.83                581.84          38.08  263358.03             1.39   \nstd    11.89                970.29          11.83   97804.24             1.03   \nmin    40.00                 23.00          14.00   25100.00             0.50   \n25%    51.00                116.50          30.00  212500.00             0.90   \n50%    60.00                250.00          38.00  262000.00             1.10   \n75%    70.00                582.00          45.00  303500.00             1.40   \nmax    95.00               7861.00          80.00  850000.00             9.40   \n\n       Sodio_soro  Tempo  \ncount      299.00 299.00  \nmean       136.63 130.26  \nstd          4.41  77.61  \nmin        113.00   4.00  \n25%        134.00  73.00  \n50%        137.00 115.00  \n75%        140.00 203.00  \nmax        148.00 285.00  ",
      "text/html": "<div>\n<style scoped>\n    .dataframe tbody tr th:only-of-type {\n        vertical-align: middle;\n    }\n\n    .dataframe tbody tr th {\n        vertical-align: top;\n    }\n\n    .dataframe thead th {\n        text-align: right;\n    }\n</style>\n<table border=\"1\" class=\"dataframe\">\n  <thead>\n    <tr style=\"text-align: right;\">\n      <th></th>\n      <th>Idade</th>\n      <th>Creatinafosfoquinase</th>\n      <th>Fracao_ejecao</th>\n      <th>Plaquetas</th>\n      <th>Creatinina_soro</th>\n      <th>Sodio_soro</th>\n      <th>Tempo</th>\n    </tr>\n  </thead>\n  <tbody>\n    <tr>\n      <th>count</th>\n      <td>299.00</td>\n      <td>299.00</td>\n      <td>299.00</td>\n      <td>299.00</td>\n      <td>299.00</td>\n      <td>299.00</td>\n      <td>299.00</td>\n    </tr>\n    <tr>\n      <th>mean</th>\n      <td>60.83</td>\n      <td>581.84</td>\n      <td>38.08</td>\n      <td>263358.03</td>\n      <td>1.39</td>\n      <td>136.63</td>\n      <td>130.26</td>\n    </tr>\n    <tr>\n      <th>std</th>\n      <td>11.89</td>\n      <td>970.29</td>\n      <td>11.83</td>\n      <td>97804.24</td>\n      <td>1.03</td>\n      <td>4.41</td>\n      <td>77.61</td>\n    </tr>\n    <tr>\n      <th>min</th>\n      <td>40.00</td>\n      <td>23.00</td>\n      <td>14.00</td>\n      <td>25100.00</td>\n      <td>0.50</td>\n      <td>113.00</td>\n      <td>4.00</td>\n    </tr>\n    <tr>\n      <th>25%</th>\n      <td>51.00</td>\n      <td>116.50</td>\n      <td>30.00</td>\n      <td>212500.00</td>\n      <td>0.90</td>\n      <td>134.00</td>\n      <td>73.00</td>\n    </tr>\n    <tr>\n      <th>50%</th>\n      <td>60.00</td>\n      <td>250.00</td>\n      <td>38.00</td>\n      <td>262000.00</td>\n      <td>1.10</td>\n      <td>137.00</td>\n      <td>115.00</td>\n    </tr>\n    <tr>\n      <th>75%</th>\n      <td>70.00</td>\n      <td>582.00</td>\n      <td>45.00</td>\n      <td>303500.00</td>\n      <td>1.40</td>\n      <td>140.00</td>\n      <td>203.00</td>\n    </tr>\n    <tr>\n      <th>max</th>\n      <td>95.00</td>\n      <td>7861.00</td>\n      <td>80.00</td>\n      <td>850000.00</td>\n      <td>9.40</td>\n      <td>148.00</td>\n      <td>285.00</td>\n    </tr>\n  </tbody>\n</table>\n</div>"
     },
     "metadata": {}
    }
   ]
  },
  {
   "cell_type": "markdown",
   "source": "### 3.3 Análise Aprofundada - Distribuição dos Dados",
   "metadata": {
    "cell_id": "c690dba3-e745-4ef3-b2a0-91e24413d2be",
    "tags": [],
    "deepnote_cell_type": "markdown"
   }
  },
  {
   "cell_type": "markdown",
   "source": "#### 3.3.1 Outliers",
   "metadata": {
    "cell_id": "136bdf34-0865-48a8-ad21-b0e6535ddbb8",
    "tags": [],
    "deepnote_cell_type": "markdown"
   }
  },
  {
   "cell_type": "markdown",
   "source": "Utilizando _boxplot_ para analisar as propriedades de um conjunto de valores numéricos como mínimo, primeiro quartil, mediana, terceiro quartil e máximo das colunas do DataFrame, localizamos os seguintes dados e Outliers:",
   "metadata": {
    "cell_id": "a05ffdf3-20be-494d-9e91-24373ac61e77",
    "tags": [],
    "deepnote_cell_type": "markdown"
   }
  },
  {
   "cell_type": "markdown",
   "source": "**Creatinafosfoquinase**",
   "metadata": {
    "cell_id": "62c1ff09-580f-4001-9dcc-a0d0229d7111",
    "tags": [],
    "deepnote_cell_type": "markdown"
   }
  },
  {
   "cell_type": "code",
   "metadata": {
    "cell_id": "efc2acdd-4ebd-48b0-8b4a-baf68f459c55",
    "tags": [],
    "deepnote_to_be_reexecuted": false,
    "source_hash": "1a65b352",
    "execution_start": 1643547763657,
    "execution_millis": 16,
    "deepnote_output_heights": [
     237,
     213
    ],
    "deepnote_cell_type": "code"
   },
   "source": "# Identificando os valores máximo e mínimo limites da variável\nmaior_valor_Creatinafosfoquinase = (df[\"Creatinafosfoquinase\"].mean()+2*df[\"Creatinafosfoquinase\"].std()) \nmenor_valor_Creatinafosfoquinase = (df[\"Creatinafosfoquinase\"].mean()-2*df[\"Creatinafosfoquinase\"].std())\nprint(f'Maior valor tolerado: {maior_valor_Creatinafosfoquinase:.2f} | Menor valor tolerado: {menor_valor_Creatinafosfoquinase:.2f}')\n\n# Definindo os outliers\nfiltro_Creatinafosfoquinase = (df[\"Creatinafosfoquinase\"] > maior_valor_Creatinafosfoquinase) | (df[\"Creatinafosfoquinase\"] < menor_valor_Creatinafosfoquinase)\n\n# Exibindo os outliers em ordem decrescente\ndf['Creatinafosfoquinase'][filtro_Creatinafosfoquinase].sort_values(ascending=False)",
   "execution_count": 31,
   "outputs": [
    {
     "name": "stdout",
     "text": "Maior valor tolerado: 2522.42 | Menor valor tolerado: -1358.74\n",
     "output_type": "stream"
    },
    {
     "output_type": "execute_result",
     "execution_count": 31,
     "data": {
      "text/plain": "1      7861\n60     7702\n72     5882\n103    5209\n134    4540\n171    3966\n52     3964\n227    2794\n280    2695\n38     2656\nName: Creatinafosfoquinase, dtype: int64"
     },
     "metadata": {}
    }
   ]
  },
  {
   "cell_type": "code",
   "metadata": {
    "cell_id": "9bc1b602-da79-4401-bca0-99f636857914",
    "tags": [],
    "deepnote_to_be_reexecuted": false,
    "source_hash": "afeff909",
    "execution_start": 1643547771746,
    "execution_millis": 198,
    "deepnote_output_heights": [
     237
    ],
    "deepnote_cell_type": "code"
   },
   "source": "# Exibindo os outliers no Boxplot:\nax = sns.boxplot(y=\"Creatinafosfoquinase\", data=df)",
   "execution_count": 32,
   "outputs": [
    {
     "data": {
      "text/plain": "<Figure size 432x288 with 1 Axes>",
      "image/png": "[encoded data removed]"
     },
     "metadata": {
      "needs_background": "light",
      "image/png": {
       "width": 395,
       "height": 235
      }
     },
     "output_type": "display_data"
    }
   ]
  },
  {
   "cell_type": "markdown",
   "source": "**Fração Ejeção**",
   "metadata": {
    "cell_id": "9bffca60-ba26-4510-ad54-1c87a40a48e4",
    "tags": [],
    "deepnote_cell_type": "markdown"
   }
  },
  {
   "cell_type": "code",
   "source": "# Identificando os valores máximo e mínimo limites da variável\nmaior_valor_Fracao_ejecao = (df[\"Fracao_ejecao\"].mean()+2*df[\"Fracao_ejecao\"].std()) \nmenor_valor_Fracao_ejecao = (df[\"Fracao_ejecao\"].mean()-2*df[\"Fracao_ejecao\"].std())\nprint(f'Maior valor tolerado: {maior_valor_Fracao_ejecao:.2f} | Menor valor tolerado: {menor_valor_Fracao_ejecao:.2f}')\n\n# Definindo os outliers\nfiltro_Fracao_ejecao = (df[\"Fracao_ejecao\"] > maior_valor_Fracao_ejecao) | (df[\"Fracao_ejecao\"] < menor_valor_Fracao_ejecao)\n\n# Exibindo os outliers em ordem decrescente\ndf['Fracao_ejecao'][filtro_Fracao_ejecao].sort_values(ascending=False)",
   "metadata": {
    "cell_id": "ec535f04-5c46-486b-b3c2-0abf68eb3926",
    "tags": [],
    "deepnote_to_be_reexecuted": false,
    "source_hash": "4fb1a0af",
    "execution_start": 1643547773716,
    "execution_millis": 205,
    "deepnote_output_heights": [
     null,
     136
    ],
    "deepnote_cell_type": "code"
   },
   "outputs": [
    {
     "name": "stdout",
     "text": "Maior valor tolerado: 61.75 | Menor valor tolerado: 14.41\n",
     "output_type": "stream"
    },
    {
     "output_type": "execute_result",
     "execution_count": 33,
     "data": {
      "text/plain": "64     80\n217    70\n8      65\n52     62\n211    62\n17     14\nName: Fracao_ejecao, dtype: int64"
     },
     "metadata": {}
    }
   ],
   "execution_count": 33
  },
  {
   "cell_type": "code",
   "metadata": {
    "cell_id": "d30887ff-a30d-42a2-8dee-13cf6511a878",
    "tags": [],
    "deepnote_to_be_reexecuted": false,
    "source_hash": "3a85b4dc",
    "execution_start": 1643547774870,
    "execution_millis": 150,
    "deepnote_output_heights": [
     237
    ],
    "deepnote_cell_type": "code"
   },
   "source": "# Exibindo os outliers no Boxplot:\nax = sns.boxplot(y=\"Fracao_ejecao\", data=df)",
   "execution_count": 34,
   "outputs": [
    {
     "data": {
      "text/plain": "<Figure size 432x288 with 1 Axes>",
      "image/png": "[encoded data removed]"
     },
     "metadata": {
      "needs_background": "light",
      "image/png": {
       "width": 383,
       "height": 235
      }
     },
     "output_type": "display_data"
    }
   ]
  },
  {
   "cell_type": "markdown",
   "source": "**Plaquetas**",
   "metadata": {
    "cell_id": "cd07e39e-4c0d-4054-ab07-a3736e358c95",
    "tags": [],
    "deepnote_cell_type": "markdown"
   }
  },
  {
   "cell_type": "code",
   "metadata": {
    "cell_id": "558d04ef-ca4c-40bd-aef4-6f176d28ae31",
    "tags": [],
    "deepnote_to_be_reexecuted": false,
    "source_hash": "50394a4f",
    "execution_start": 1643547778527,
    "execution_millis": 5,
    "deepnote_output_heights": [
     null,
     290
    ],
    "deepnote_cell_type": "code"
   },
   "source": "# Identificando os valores máximo e mínimo limites da variável\nmaior_valor_Plaquetas = (df[\"Plaquetas\"].mean()+2*df[\"Plaquetas\"].std()) \nmenor_valor_Plaquetas = (df[\"Plaquetas\"].mean()-2*df[\"Plaquetas\"].std())\nprint(f'Maior valor tolerado: {maior_valor_Plaquetas:.2f} | Menor valor tolerado: {menor_valor_Plaquetas:.2f}')\n\n# Definindo os outliers\nfiltro_Plaquetas = (df[\"Plaquetas\"] > maior_valor_Plaquetas) | (df[\"Plaquetas\"] < menor_valor_Plaquetas)\n\n# Exibindo os outliers em ordem decrescente\ndf['Plaquetas'][filtro_Plaquetas].sort_values(ascending=False)",
   "execution_count": 35,
   "outputs": [
    {
     "name": "stdout",
     "text": "Maior valor tolerado: 458966.50 | Menor valor tolerado: 67749.56\n",
     "output_type": "stream"
    },
    {
     "output_type": "execute_result",
     "execution_count": 35,
     "data": {
      "text/plain": "109   850000.00\n296   742000.00\n105   621000.00\n287   543000.00\n240   533000.00\n117   507000.00\n224   504000.00\n69    497000.00\n212   481000.00\n55    461000.00\n230    62000.00\n281    51000.00\n15     47000.00\n277    25100.00\nName: Plaquetas, dtype: float64"
     },
     "metadata": {}
    }
   ]
  },
  {
   "cell_type": "code",
   "metadata": {
    "cell_id": "a7804fcc-30f5-42ef-96e3-570ee1750577",
    "tags": [],
    "deepnote_to_be_reexecuted": false,
    "source_hash": "81c9a323",
    "execution_start": 1643547779773,
    "execution_millis": 156,
    "deepnote_output_heights": [
     237
    ],
    "deepnote_cell_type": "code"
   },
   "source": "# Exibindo os outliers no Boxplot:\nax = sns.boxplot(y=\"Plaquetas\", data=df)",
   "execution_count": 36,
   "outputs": [
    {
     "data": {
      "text/plain": "<Figure size 432x288 with 1 Axes>",
      "image/png": "[encoded data removed]"
     },
     "metadata": {
      "needs_background": "light",
      "image/png": {
       "width": 407,
       "height": 235
      }
     },
     "output_type": "display_data"
    }
   ]
  },
  {
   "cell_type": "markdown",
   "source": "**Creatinina Soro**",
   "metadata": {
    "cell_id": "479c07bb-22ed-4f49-a352-d62cae1ed76e",
    "tags": [],
    "deepnote_cell_type": "markdown"
   }
  },
  {
   "cell_type": "code",
   "metadata": {
    "cell_id": "d4e9465e-e817-4ed9-b1f5-2e7bf5a610be",
    "tags": [],
    "deepnote_to_be_reexecuted": false,
    "source_hash": "ce17ce34",
    "execution_start": 1643547782497,
    "execution_millis": 10,
    "deepnote_output_heights": [
     null,
     348
    ],
    "deepnote_cell_type": "code"
   },
   "source": "# Identificando os valores máximo e mínimo limites da variável\nmaior_valor_Creatinina_soro = (df[\"Creatinina_soro\"].mean()+2*df[\"Creatinina_soro\"].std()) \nmenor_valor_Creatinina_soro = (df[\"Creatinina_soro\"].mean()-2*df[\"Creatinina_soro\"].std())\nprint(f'Maior valor tolerado: {maior_valor_Creatinina_soro:.2f} | Menor valor tolerado: {menor_valor_Creatinina_soro:.2f}')\n\n# Definindo os outliers\nfiltro_Creatinina_soro = (df[\"Creatinina_soro\"] > maior_valor_Creatinina_soro) | (df[\"Creatinina_soro\"] < menor_valor_Creatinina_soro)\n\n# Exibindo os outliers em ordem decrescente\ndf['Creatinina_soro'][filtro_Creatinina_soro].sort_values(ascending=False)",
   "execution_count": 37,
   "outputs": [
    {
     "name": "stdout",
     "text": "Maior valor tolerado: 2.20 | Menor valor tolerado: 0.27\n",
     "output_type": "stream"
    },
    {
     "output_type": "execute_result",
     "execution_count": 37,
     "data": {
      "text/plain": "129   3.40\n117   3.20\n39    3.00\n31    3.00\n65    2.90\n4     2.70\n281   2.70\n56    2.70\n150   2.50\n183   2.50\n82    2.50\n167   2.40\n247   2.40\n61    2.30\n104   2.30\n38    2.30\n54    2.20\nName: Creatinina_soro, dtype: float64"
     },
     "metadata": {}
    }
   ]
  },
  {
   "cell_type": "code",
   "metadata": {
    "cell_id": "9b72ec22-d0d3-4eeb-b342-1182908b5cf7",
    "tags": [],
    "deepnote_to_be_reexecuted": false,
    "source_hash": "7d788ac2",
    "execution_start": 1643547783617,
    "execution_millis": 178,
    "deepnote_output_heights": [
     238
    ],
    "deepnote_cell_type": "code"
   },
   "source": "# Exibindo os outliers no Boxplot:\nax = sns.boxplot(y=\"Creatinina_soro\", data=df)",
   "execution_count": 38,
   "outputs": [
    {
     "data": {
      "text/plain": "<Figure size 432x288 with 1 Axes>",
      "image/png": "[encoded data removed]"
     },
     "metadata": {
      "needs_background": "light",
      "image/png": {
       "width": 387,
       "height": 236
      }
     },
     "output_type": "display_data"
    }
   ]
  },
  {
   "cell_type": "markdown",
   "source": "**Sódio Soro**",
   "metadata": {
    "cell_id": "b2f27dac-ec4e-4183-a14a-0e969a65b5b8",
    "tags": [],
    "deepnote_cell_type": "markdown"
   }
  },
  {
   "cell_type": "code",
   "source": "# Identificando os valores máximo e mínimo limites da variável\nmaior_valor_Sodio_soro = (df[\"Sodio_soro\"].mean()+2*df[\"Sodio_soro\"].std()) \nmenor_valor_Sodio_soro = (df[\"Sodio_soro\"].mean()-2*df[\"Sodio_soro\"].std())\nprint(f'Maior valor tolerado: {maior_valor_Sodio_soro:.2f} | Menor valor tolerado: {menor_valor_Sodio_soro:.2f}')\n\n# Definindo os outliers\nfiltro_Sodio_soro = (df[\"Sodio_soro\"] > maior_valor_Sodio_soro) | (df[\"Sodio_soro\"] < menor_valor_Sodio_soro)\n\n# Exibindo os outliers em ordem decrescente\ndf['Sodio_soro'][filtro_Sodio_soro].sort_values(ascending=False)",
   "metadata": {
    "cell_id": "242f34af-44ea-458e-be95-d49464984d82",
    "tags": [],
    "deepnote_to_be_reexecuted": false,
    "source_hash": "5436432a",
    "execution_start": 1643547785943,
    "execution_millis": 3,
    "deepnote_output_heights": [
     null,
     232
    ],
    "deepnote_cell_type": "code"
   },
   "outputs": [
    {
     "name": "stdout",
     "text": "Maior valor tolerado: 145.45 | Menor valor tolerado: 127.80\n",
     "output_type": "stream"
    },
    {
     "output_type": "execute_result",
     "execution_count": 39,
     "data": {
      "text/plain": "236    148\n52     146\n17     127\n65     127\n230    127\n114    126\n225    125\n126    124\n19     121\n4      116\n199    113\nName: Sodio_soro, dtype: int64"
     },
     "metadata": {}
    }
   ],
   "execution_count": 39
  },
  {
   "cell_type": "code",
   "metadata": {
    "cell_id": "38f8c53c-dd9c-4d0e-8346-d287189e034a",
    "tags": [],
    "deepnote_to_be_reexecuted": false,
    "source_hash": "fe4e1c2c",
    "execution_start": 1643547787158,
    "execution_millis": 162,
    "deepnote_output_heights": [
     237
    ],
    "deepnote_cell_type": "code"
   },
   "source": "# Exibindo os outliers no Boxplot:\nax = sns.boxplot(y=\"Sodio_soro\", data=df)",
   "execution_count": 40,
   "outputs": [
    {
     "data": {
      "text/plain": "<Figure size 432x288 with 1 Axes>",
      "image/png": "[encoded data removed]"
     },
     "metadata": {
      "needs_background": "light",
      "image/png": {
       "width": 390,
       "height": 235
      }
     },
     "output_type": "display_data"
    }
   ]
  },
  {
   "cell_type": "markdown",
   "source": "Os outliers influenciam as visões de média, mediana e desvio padrão.  Conforme a análise acima, a colunas que apresenta mais dados desviantes ainda tem menos de 5% do database e não parecem ter relação direta com o resultado Morte por insuficiência cardíaca.\n\nDesse modo, nossa sugestão é, em vez de excluí-las, **substituí-las pelo valor médio**, pois em todas estas colunas a média é muito próxima do valor do 3º quartil (75%).",
   "metadata": {
    "cell_id": "fd71fe27-0f6b-455d-918a-a2e6039746bd",
    "tags": [],
    "deepnote_cell_type": "markdown"
   }
  },
  {
   "cell_type": "code",
   "source": "# Média:\ndf.mean()",
   "metadata": {
    "cell_id": "4ce516df-adc9-4548-be6e-c7cdac04fb9e",
    "tags": [],
    "deepnote_to_be_reexecuted": false,
    "source_hash": "1309f51f",
    "execution_start": 1643548590954,
    "execution_millis": 136,
    "deepnote_output_heights": [
     271
    ],
    "deepnote_cell_type": "code"
   },
   "outputs": [
    {
     "output_type": "execute_result",
     "execution_count": 78,
     "data": {
      "text/plain": "Idade                      60.83\nAnemia                      0.43\nCreatinafosfoquinase      438.57\nDiabetes                    0.42\nFracao_ejecao              37.66\nPressao_alta                0.35\nPlaquetas              255525.81\nCreatinina_soro             1.15\nSodio_soro                136.98\nSexo                        0.65\nFumante                     0.32\nTempo                     130.26\nMorte                       0.32\ndtype: float64"
     },
     "metadata": {}
    }
   ],
   "execution_count": 78
  },
  {
   "cell_type": "code",
   "metadata": {
    "cell_id": "1ddfa42a-f30c-44b9-896e-ce4d26c42f92",
    "tags": [],
    "deepnote_to_be_reexecuted": false,
    "source_hash": "81736bb5",
    "execution_start": 1643548608046,
    "execution_millis": 2,
    "deepnote_output_heights": [
     232
    ],
    "deepnote_cell_type": "code"
   },
   "source": "# Realizando as alterações para a média de cada coluna:\n\ndf.loc[filtro_Creatinafosfoquinase, 'Creatinafosfoquinase'] = df['Creatinafosfoquinase'].mean()\ndf.loc[filtro_Fracao_ejecao, 'Fracao_ejecao'] = df['Fracao_ejecao'].mean()\ndf.loc[filtro_Plaquetas, 'Plaquetas'] = df['Plaquetas'].mean()\ndf.loc[filtro_Creatinina_soro, 'Creatinina_soro'] = df['Creatinina_soro'].mean()\ndf.loc[filtro_Sodio_soro, 'Sodio_soro'] = df['Sodio_soro'].mean()",
   "execution_count": 79,
   "outputs": []
  },
  {
   "cell_type": "code",
   "source": "# ------ TESTE - APAGAR DEPOIS ------\n\n# print(f'Maior valor tolerado: {maior_valor_Fracao_ejecao:.2f} | Menor valor tolerado: {menor_valor_Fracao_ejecao:.2f} | Média: ')\n# print(df['Fracao_ejecao'].mean())\n# df['Fracao_ejecao'].sort_values(ascending=False)\n",
   "metadata": {
    "cell_id": "7b13916b-5301-47be-976d-04a3bc2b348f",
    "tags": [],
    "deepnote_to_be_reexecuted": false,
    "source_hash": "f4770353",
    "execution_start": 1643548350923,
    "execution_millis": 0,
    "deepnote_output_heights": [
     21,
     232
    ],
    "deepnote_cell_type": "code"
   },
   "outputs": [],
   "execution_count": 69
  },
  {
   "cell_type": "code",
   "metadata": {
    "cell_id": "5ac68d53-f717-4535-8e89-b9a18560a9f7",
    "tags": [],
    "deepnote_to_be_reexecuted": false,
    "source_hash": "8536bbd3",
    "execution_start": 1643548615236,
    "execution_millis": 66,
    "deepnote_cell_type": "code"
   },
   "source": "# Testando a alteração:\ndf.describe()",
   "execution_count": 80,
   "outputs": [
    {
     "output_type": "execute_result",
     "execution_count": 80,
     "data": {
      "application/vnd.deepnote.dataframe.v3+json": {
       "column_count": 7,
       "row_count": 8,
       "columns": [
        {
         "name": "Idade",
         "dtype": "float64",
         "stats": {
          "unique_count": 8,
          "nan_count": 0,
          "min": "11.89480907404447",
          "max": "299.0",
          "histogram": [
           {
            "bin_start": 11.89480907404447,
            "bin_end": 40.60532816664002,
            "count": 2
           },
           {
            "bin_start": 40.60532816664002,
            "bin_end": 69.31584725923558,
            "count": 3
           },
           {
            "bin_start": 69.31584725923558,
            "bin_end": 98.02636635183114,
            "count": 2
           },
           {
            "bin_start": 98.02636635183114,
            "bin_end": 126.73688544442669,
            "count": 0
           },
           {
            "bin_start": 126.73688544442669,
            "bin_end": 155.44740453702224,
            "count": 0
           },
           {
            "bin_start": 155.44740453702224,
            "bin_end": 184.1579236296178,
            "count": 0
           },
           {
            "bin_start": 184.1579236296178,
            "bin_end": 212.86844272221336,
            "count": 0
           },
           {
            "bin_start": 212.86844272221336,
            "bin_end": 241.5789618148089,
            "count": 0
           },
           {
            "bin_start": 241.5789618148089,
            "bin_end": 270.2894809074045,
            "count": 0
           },
           {
            "bin_start": 270.2894809074045,
            "bin_end": 299,
            "count": 1
           }
          ]
         }
        },
        {
         "name": "Creatinafosfoquinase",
         "dtype": "float64",
         "stats": {
          "unique_count": 8,
          "nan_count": 0,
          "min": "23.0",
          "max": "2522.0",
          "histogram": [
           {
            "bin_start": 23,
            "bin_end": 272.9,
            "count": 3
           },
           {
            "bin_start": 272.9,
            "bin_end": 522.8,
            "count": 3
           },
           {
            "bin_start": 522.8,
            "bin_end": 772.7,
            "count": 1
           },
           {
            "bin_start": 772.7,
            "bin_end": 1022.6,
            "count": 0
           },
           {
            "bin_start": 1022.6,
            "bin_end": 1272.5,
            "count": 0
           },
           {
            "bin_start": 1272.5,
            "bin_end": 1522.4,
            "count": 0
           },
           {
            "bin_start": 1522.4,
            "bin_end": 1772.3,
            "count": 0
           },
           {
            "bin_start": 1772.3,
            "bin_end": 2022.2,
            "count": 0
           },
           {
            "bin_start": 2022.2,
            "bin_end": 2272.1,
            "count": 0
           },
           {
            "bin_start": 2272.1,
            "bin_end": 2522,
            "count": 1
           }
          ]
         }
        },
        {
         "name": "Fracao_ejecao",
         "dtype": "float64",
         "stats": {
          "unique_count": 8,
          "nan_count": 0,
          "min": "11.061431620170872",
          "max": "299.0",
          "histogram": [
           {
            "bin_start": 11.061431620170872,
            "bin_end": 39.85528845815378,
            "count": 5
           },
           {
            "bin_start": 39.85528845815378,
            "bin_end": 68.6491452961367,
            "count": 2
           },
           {
            "bin_start": 68.6491452961367,
            "bin_end": 97.44300213411961,
            "count": 0
           },
           {
            "bin_start": 97.44300213411961,
            "bin_end": 126.23685897210251,
            "count": 0
           },
           {
            "bin_start": 126.23685897210251,
            "bin_end": 155.03071581008544,
            "count": 0
           },
           {
            "bin_start": 155.03071581008544,
            "bin_end": 183.82457264806834,
            "count": 0
           },
           {
            "bin_start": 183.82457264806834,
            "bin_end": 212.61842948605127,
            "count": 0
           },
           {
            "bin_start": 212.61842948605127,
            "bin_end": 241.41228632403417,
            "count": 0
           },
           {
            "bin_start": 241.41228632403417,
            "bin_end": 270.2061431620171,
            "count": 0
           },
           {
            "bin_start": 270.2061431620171,
            "bin_end": 299,
            "count": 1
           }
          ]
         }
        },
        {
         "name": "Plaquetas",
         "dtype": "float64",
         "stats": {
          "unique_count": 8,
          "nan_count": 0,
          "min": "299.0",
          "max": "454000.0",
          "histogram": [
           {
            "bin_start": 299,
            "bin_end": 45669.1,
            "count": 1
           },
           {
            "bin_start": 45669.1,
            "bin_end": 91039.2,
            "count": 2
           },
           {
            "bin_start": 91039.2,
            "bin_end": 136409.3,
            "count": 0
           },
           {
            "bin_start": 136409.3,
            "bin_end": 181779.4,
            "count": 0
           },
           {
            "bin_start": 181779.4,
            "bin_end": 227149.5,
            "count": 1
           },
           {
            "bin_start": 227149.5,
            "bin_end": 272519.6,
            "count": 2
           },
           {
            "bin_start": 272519.6,
            "bin_end": 317889.7,
            "count": 1
           },
           {
            "bin_start": 317889.7,
            "bin_end": 363259.8,
            "count": 0
           },
           {
            "bin_start": 363259.8,
            "bin_end": 408629.89999999997,
            "count": 0
           },
           {
            "bin_start": 408629.89999999997,
            "bin_end": 454000,
            "count": 1
           }
          ]
         }
        },
        {
         "name": "Creatinina_soro",
         "dtype": "float64",
         "stats": {
          "unique_count": 8,
          "nan_count": 0,
          "min": "0.3254606401605783",
          "max": "299.0",
          "histogram": [
           {
            "bin_start": 0.3254606401605783,
            "bin_end": 30.192914576144517,
            "count": 7
           },
           {
            "bin_start": 30.192914576144517,
            "bin_end": 60.060368512128456,
            "count": 0
           },
           {
            "bin_start": 60.060368512128456,
            "bin_end": 89.92782244811238,
            "count": 0
           },
           {
            "bin_start": 89.92782244811238,
            "bin_end": 119.79527638409633,
            "count": 0
           },
           {
            "bin_start": 119.79527638409633,
            "bin_end": 149.66273032008027,
            "count": 0
           },
           {
            "bin_start": 149.66273032008027,
            "bin_end": 179.5301842560642,
            "count": 0
           },
           {
            "bin_start": 179.5301842560642,
            "bin_end": 209.39763819204813,
            "count": 0
           },
           {
            "bin_start": 209.39763819204813,
            "bin_end": 239.26509212803208,
            "count": 0
           },
           {
            "bin_start": 239.26509212803208,
            "bin_end": 269.132546064016,
            "count": 0
           },
           {
            "bin_start": 269.132546064016,
            "bin_end": 299,
            "count": 1
           }
          ]
         }
        },
        {
         "name": "Sodio_soro",
         "dtype": "float64",
         "stats": {
          "unique_count": 8,
          "nan_count": 0,
          "min": "3.492519905695842",
          "max": "299.0",
          "histogram": [
           {
            "bin_start": 3.492519905695842,
            "bin_end": 33.04326791512626,
            "count": 1
           },
           {
            "bin_start": 33.04326791512626,
            "bin_end": 62.59401592455668,
            "count": 0
           },
           {
            "bin_start": 62.59401592455668,
            "bin_end": 92.1447639339871,
            "count": 0
           },
           {
            "bin_start": 92.1447639339871,
            "bin_end": 121.69551194341751,
            "count": 0
           },
           {
            "bin_start": 121.69551194341751,
            "bin_end": 151.24625995284794,
            "count": 6
           },
           {
            "bin_start": 151.24625995284794,
            "bin_end": 180.79700796227834,
            "count": 0
           },
           {
            "bin_start": 180.79700796227834,
            "bin_end": 210.34775597170878,
            "count": 0
           },
           {
            "bin_start": 210.34775597170878,
            "bin_end": 239.89850398113919,
            "count": 0
           },
           {
            "bin_start": 239.89850398113919,
            "bin_end": 269.44925199056956,
            "count": 0
           },
           {
            "bin_start": 269.44925199056956,
            "bin_end": 299,
            "count": 1
           }
          ]
         }
        },
        {
         "name": "Tempo",
         "dtype": "float64",
         "stats": {
          "unique_count": 8,
          "nan_count": 0,
          "min": "4.0",
          "max": "299.0",
          "histogram": [
           {
            "bin_start": 4,
            "bin_end": 33.5,
            "count": 1
           },
           {
            "bin_start": 33.5,
            "bin_end": 63,
            "count": 0
           },
           {
            "bin_start": 63,
            "bin_end": 92.5,
            "count": 2
           },
           {
            "bin_start": 92.5,
            "bin_end": 122,
            "count": 1
           },
           {
            "bin_start": 122,
            "bin_end": 151.5,
            "count": 1
           },
           {
            "bin_start": 151.5,
            "bin_end": 181,
            "count": 0
           },
           {
            "bin_start": 181,
            "bin_end": 210.5,
            "count": 1
           },
           {
            "bin_start": 210.5,
            "bin_end": 240,
            "count": 0
           },
           {
            "bin_start": 240,
            "bin_end": 269.5,
            "count": 0
           },
           {
            "bin_start": 269.5,
            "bin_end": 299,
            "count": 2
           }
          ]
         }
        },
        {
         "name": "_deepnote_index_column",
         "dtype": "object"
        }
       ],
       "rows": [
        {
         "Idade": 299,
         "Creatinafosfoquinase": 299,
         "Fracao_ejecao": 299,
         "Plaquetas": 299,
         "Creatinina_soro": 299,
         "Sodio_soro": 299,
         "Tempo": 299,
         "_deepnote_index_column": "count"
        },
        {
         "Idade": 60.83389297658862,
         "Creatinafosfoquinase": 438.41713032041616,
         "Fracao_ejecao": 37.6587065051647,
         "Plaquetas": 255509.40488831117,
         "Creatinina_soro": 1.1471665787519796,
         "Sodio_soro": 136.9826211019479,
         "Tempo": 130.2608695652174,
         "_deepnote_index_column": "mean"
        },
        {
         "Idade": 11.89480907404447,
         "Creatinafosfoquinase": 481.90226476032103,
         "Fracao_ejecao": 11.061431620170872,
         "Plaquetas": 71734.05158589777,
         "Creatinina_soro": 0.3254606401605783,
         "Sodio_soro": 3.492519905695842,
         "Tempo": 77.61420795029339,
         "_deepnote_index_column": "std"
        },
        {
         "Idade": 40,
         "Creatinafosfoquinase": 23,
         "Fracao_ejecao": 15,
         "Plaquetas": 70000,
         "Creatinina_soro": 0.5,
         "Sodio_soro": 128,
         "Tempo": 4,
         "_deepnote_index_column": "min"
        },
        {
         "Idade": 51,
         "Creatinafosfoquinase": 116.5,
         "Fracao_ejecao": 30,
         "Plaquetas": 216000,
         "Creatinina_soro": 0.9,
         "Sodio_soro": 135,
         "Tempo": 73,
         "_deepnote_index_column": "25%"
        },
        {
         "Idade": 60,
         "Creatinafosfoquinase": 250,
         "Fracao_ejecao": 38,
         "Plaquetas": 255525.8079717877,
         "Creatinina_soro": 1.1,
         "Sodio_soro": 137,
         "Tempo": 115,
         "_deepnote_index_column": "50%"
        },
        {
         "Idade": 70,
         "Creatinafosfoquinase": 582,
         "Fracao_ejecao": 42.5,
         "Plaquetas": 294500,
         "Creatinina_soro": 1.3,
         "Sodio_soro": 139.5,
         "Tempo": 203,
         "_deepnote_index_column": "75%"
        },
        {
         "Idade": 95,
         "Creatinafosfoquinase": 2522,
         "Fracao_ejecao": 60,
         "Plaquetas": 454000,
         "Creatinina_soro": 2.1,
         "Sodio_soro": 145,
         "Tempo": 285,
         "_deepnote_index_column": "max"
        }
       ]
      },
      "text/plain": "       Idade  Creatinafosfoquinase  Fracao_ejecao  Plaquetas  Creatinina_soro  \\\ncount 299.00                299.00         299.00     299.00           299.00   \nmean   60.83                438.42          37.66  255509.40             1.15   \nstd    11.89                481.90          11.06   71734.05             0.33   \nmin    40.00                 23.00          15.00   70000.00             0.50   \n25%    51.00                116.50          30.00  216000.00             0.90   \n50%    60.00                250.00          38.00  255525.81             1.10   \n75%    70.00                582.00          42.50  294500.00             1.30   \nmax    95.00               2522.00          60.00  454000.00             2.10   \n\n       Sodio_soro  Tempo  \ncount      299.00 299.00  \nmean       136.98 130.26  \nstd          3.49  77.61  \nmin        128.00   4.00  \n25%        135.00  73.00  \n50%        137.00 115.00  \n75%        139.50 203.00  \nmax        145.00 285.00  ",
      "text/html": "<div>\n<style scoped>\n    .dataframe tbody tr th:only-of-type {\n        vertical-align: middle;\n    }\n\n    .dataframe tbody tr th {\n        vertical-align: top;\n    }\n\n    .dataframe thead th {\n        text-align: right;\n    }\n</style>\n<table border=\"1\" class=\"dataframe\">\n  <thead>\n    <tr style=\"text-align: right;\">\n      <th></th>\n      <th>Idade</th>\n      <th>Creatinafosfoquinase</th>\n      <th>Fracao_ejecao</th>\n      <th>Plaquetas</th>\n      <th>Creatinina_soro</th>\n      <th>Sodio_soro</th>\n      <th>Tempo</th>\n    </tr>\n  </thead>\n  <tbody>\n    <tr>\n      <th>count</th>\n      <td>299.00</td>\n      <td>299.00</td>\n      <td>299.00</td>\n      <td>299.00</td>\n      <td>299.00</td>\n      <td>299.00</td>\n      <td>299.00</td>\n    </tr>\n    <tr>\n      <th>mean</th>\n      <td>60.83</td>\n      <td>438.42</td>\n      <td>37.66</td>\n      <td>255509.40</td>\n      <td>1.15</td>\n      <td>136.98</td>\n      <td>130.26</td>\n    </tr>\n    <tr>\n      <th>std</th>\n      <td>11.89</td>\n      <td>481.90</td>\n      <td>11.06</td>\n      <td>71734.05</td>\n      <td>0.33</td>\n      <td>3.49</td>\n      <td>77.61</td>\n    </tr>\n    <tr>\n      <th>min</th>\n      <td>40.00</td>\n      <td>23.00</td>\n      <td>15.00</td>\n      <td>70000.00</td>\n      <td>0.50</td>\n      <td>128.00</td>\n      <td>4.00</td>\n    </tr>\n    <tr>\n      <th>25%</th>\n      <td>51.00</td>\n      <td>116.50</td>\n      <td>30.00</td>\n      <td>216000.00</td>\n      <td>0.90</td>\n      <td>135.00</td>\n      <td>73.00</td>\n    </tr>\n    <tr>\n      <th>50%</th>\n      <td>60.00</td>\n      <td>250.00</td>\n      <td>38.00</td>\n      <td>255525.81</td>\n      <td>1.10</td>\n      <td>137.00</td>\n      <td>115.00</td>\n    </tr>\n    <tr>\n      <th>75%</th>\n      <td>70.00</td>\n      <td>582.00</td>\n      <td>42.50</td>\n      <td>294500.00</td>\n      <td>1.30</td>\n      <td>139.50</td>\n      <td>203.00</td>\n    </tr>\n    <tr>\n      <th>max</th>\n      <td>95.00</td>\n      <td>2522.00</td>\n      <td>60.00</td>\n      <td>454000.00</td>\n      <td>2.10</td>\n      <td>145.00</td>\n      <td>285.00</td>\n    </tr>\n  </tbody>\n</table>\n</div>"
     },
     "metadata": {}
    }
   ]
  },
  {
   "cell_type": "markdown",
   "source": "### Histograma do Dataset",
   "metadata": {
    "cell_id": "0462b53d-a1c8-46bd-877e-f167ffa2fb70",
    "tags": [],
    "deepnote_cell_type": "markdown"
   }
  },
  {
   "cell_type": "code",
   "metadata": {
    "cell_id": "654e0508-80e6-4778-a39f-6b111ac72d27",
    "tags": [],
    "deepnote_to_be_reexecuted": false,
    "source_hash": "f8ac89ae",
    "execution_start": 1643548634560,
    "execution_millis": 1569,
    "deepnote_output_heights": [
     503
    ],
    "deepnote_cell_type": "code"
   },
   "source": "#Histograma do Dataset\ndf.hist(layout = (7, 2), xlabelsize = 10, ylabelsize = 10, figsize = (10,15))\nplt.show()",
   "execution_count": 81,
   "outputs": [
    {
     "data": {
      "text/plain": "<Figure size 720x1080 with 14 Axes>",
      "image/png": "[encoded data removed]"
     },
     "metadata": {
      "needs_background": "light",
      "image/png": {
       "width": 595,
       "height": 501
      }
     },
     "output_type": "display_data"
    }
   ]
  },
  {
   "cell_type": "markdown",
   "source": "### Análise de risco",
   "metadata": {
    "cell_id": "7b8a0876-6b2b-48af-a270-29f28bc5a351",
    "tags": [],
    "deepnote_cell_type": "markdown"
   }
  },
  {
   "cell_type": "code",
   "source": "# plot da matriz de correlação\ncorrelation = df.corr()\nplot = sns.heatmap(correlation, annot = True, fmt=\".1f\", linewidths=.6);",
   "metadata": {
    "cell_id": "3453c8b0-3f44-4840-980a-02e0ab1eeeea",
    "tags": [],
    "deepnote_to_be_reexecuted": false,
    "source_hash": "70bda761",
    "execution_start": 1643548738456,
    "execution_millis": 1324,
    "deepnote_output_heights": [
     351
    ],
    "deepnote_cell_type": "code"
   },
   "outputs": [
    {
     "data": {
      "text/plain": "<Figure size 432x288 with 2 Axes>",
      "image/png": "[encoded data removed]"
     },
     "metadata": {
      "needs_background": "light",
      "image/png": {
       "width": 454,
       "height": 349
      }
     },
     "output_type": "display_data"
    }
   ],
   "execution_count": 82
  },
  {
   "cell_type": "code",
   "source": "",
   "metadata": {
    "cell_id": "0bed477f-a770-4d85-91a4-19eceefc2c30",
    "tags": [],
    "deepnote_cell_type": "code"
   },
   "outputs": [],
   "execution_count": null
  },
  {
   "cell_type": "markdown",
   "source": "<a style='text-decoration:none;line-height:16px;display:flex;color:#5B5B62;padding:10px;justify-content:end;' href='https://deepnote.com?utm_source=created-in-deepnote-cell&projectId=06c59f5e-edcc-4595-a43b-86ad57f45f30' target=\"_blank\">\n<img alt='Created in deepnote.com' style='display:inline;max-height:16px;margin:0px;margin-right:7.5px;' src='data:image/svg+xml;base64,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' > </img>\nCreated in <span style='font-weight:600;margin-left:4px;'>Deepnote</span></a>",
   "metadata": {
    "tags": [],
    "created_in_deepnote_cell": true,
    "deepnote_cell_type": "markdown"
   }
  }
 ],
 "nbformat": 4,
 "nbformat_minor": 5,
 "metadata": {
  "kernelspec": {
   "display_name": "Python 3",
   "language": "python",
   "name": "python3"
  },
  "language_info": {
   "codemirror_mode": {
    "name": "ipython",
    "version": 3
   },
   "file_extension": ".py",
   "mimetype": "text/x-python",
   "name": "python",
   "nbconvert_exporter": "python",
   "pygments_lexer": "ipython3",
   "version": "3.8.8"
  },
  "deepnote_notebook_id": "da3a204e-bbc5-4a13-8558-d8259e647fd7",
  "deepnote": {
   "is_reactive": false
  },
  "deepnote_execution_queue": []
 }
}